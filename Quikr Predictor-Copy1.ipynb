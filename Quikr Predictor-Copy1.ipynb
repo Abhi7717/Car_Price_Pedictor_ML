{
 "cells": [
  {
   "cell_type": "code",
   "execution_count": 2,
   "id": "b6afd191",
   "metadata": {},
   "outputs": [
    {
     "data": {
      "text/html": [
       "<div>\n",
       "<style scoped>\n",
       "    .dataframe tbody tr th:only-of-type {\n",
       "        vertical-align: middle;\n",
       "    }\n",
       "\n",
       "    .dataframe tbody tr th {\n",
       "        vertical-align: top;\n",
       "    }\n",
       "\n",
       "    .dataframe thead th {\n",
       "        text-align: right;\n",
       "    }\n",
       "</style>\n",
       "<table border=\"1\" class=\"dataframe\">\n",
       "  <thead>\n",
       "    <tr style=\"text-align: right;\">\n",
       "      <th></th>\n",
       "      <th>name</th>\n",
       "      <th>company</th>\n",
       "      <th>year</th>\n",
       "      <th>Price</th>\n",
       "      <th>kms_driven</th>\n",
       "      <th>fuel_type</th>\n",
       "    </tr>\n",
       "  </thead>\n",
       "  <tbody>\n",
       "    <tr>\n",
       "      <th>0</th>\n",
       "      <td>Hyundai Santro Xing XO eRLX Euro III</td>\n",
       "      <td>Hyundai</td>\n",
       "      <td>2007</td>\n",
       "      <td>80,000</td>\n",
       "      <td>45,000 kms</td>\n",
       "      <td>Petrol</td>\n",
       "    </tr>\n",
       "    <tr>\n",
       "      <th>1</th>\n",
       "      <td>Mahindra Jeep CL550 MDI</td>\n",
       "      <td>Mahindra</td>\n",
       "      <td>2006</td>\n",
       "      <td>4,25,000</td>\n",
       "      <td>40 kms</td>\n",
       "      <td>Diesel</td>\n",
       "    </tr>\n",
       "    <tr>\n",
       "      <th>2</th>\n",
       "      <td>Maruti Suzuki Alto 800 Vxi</td>\n",
       "      <td>Maruti</td>\n",
       "      <td>2018</td>\n",
       "      <td>Ask For Price</td>\n",
       "      <td>22,000 kms</td>\n",
       "      <td>Petrol</td>\n",
       "    </tr>\n",
       "    <tr>\n",
       "      <th>3</th>\n",
       "      <td>Hyundai Grand i10 Magna 1.2 Kappa VTVT</td>\n",
       "      <td>Hyundai</td>\n",
       "      <td>2014</td>\n",
       "      <td>3,25,000</td>\n",
       "      <td>28,000 kms</td>\n",
       "      <td>Petrol</td>\n",
       "    </tr>\n",
       "    <tr>\n",
       "      <th>4</th>\n",
       "      <td>Ford EcoSport Titanium 1.5L TDCi</td>\n",
       "      <td>Ford</td>\n",
       "      <td>2014</td>\n",
       "      <td>5,75,000</td>\n",
       "      <td>36,000 kms</td>\n",
       "      <td>Diesel</td>\n",
       "    </tr>\n",
       "  </tbody>\n",
       "</table>\n",
       "</div>"
      ],
      "text/plain": [
       "                                     name   company  year          Price  \\\n",
       "0    Hyundai Santro Xing XO eRLX Euro III   Hyundai  2007         80,000   \n",
       "1                 Mahindra Jeep CL550 MDI  Mahindra  2006       4,25,000   \n",
       "2              Maruti Suzuki Alto 800 Vxi    Maruti  2018  Ask For Price   \n",
       "3  Hyundai Grand i10 Magna 1.2 Kappa VTVT   Hyundai  2014       3,25,000   \n",
       "4        Ford EcoSport Titanium 1.5L TDCi      Ford  2014       5,75,000   \n",
       "\n",
       "   kms_driven fuel_type  \n",
       "0  45,000 kms    Petrol  \n",
       "1      40 kms    Diesel  \n",
       "2  22,000 kms    Petrol  \n",
       "3  28,000 kms    Petrol  \n",
       "4  36,000 kms    Diesel  "
      ]
     },
     "execution_count": 2,
     "metadata": {},
     "output_type": "execute_result"
    }
   ],
   "source": [
    "import pandas as pd\n",
    "import numpy as np\n",
    "import matplotlib.pyplot as plt\n",
    "from sklearn.model_selection import train_test_split\n",
    "from sklearn.linear_model import LinearRegression\n",
    "from sklearn.linear_model import Lasso\n",
    "from sklearn import metrics\n",
    "car=pd.read_csv('quikr_car.csv')\n",
    "car.head()#Displays the first five rows of the DataFrame car...car.head(10) to display the first ten rows"
   ]
  },
  {
   "cell_type": "code",
   "execution_count": 3,
   "id": "d541e50b",
   "metadata": {},
   "outputs": [
    {
     "data": {
      "text/plain": [
       "(892, 6)"
      ]
     },
     "execution_count": 3,
     "metadata": {},
     "output_type": "execute_result"
    }
   ],
   "source": [
    "car.shape\n"
   ]
  },
  {
   "cell_type": "code",
   "execution_count": 4,
   "id": "7a84406e",
   "metadata": {},
   "outputs": [
    {
     "name": "stdout",
     "output_type": "stream",
     "text": [
      "<class 'pandas.core.frame.DataFrame'>\n",
      "RangeIndex: 892 entries, 0 to 891\n",
      "Data columns (total 6 columns):\n",
      " #   Column      Non-Null Count  Dtype \n",
      "---  ------      --------------  ----- \n",
      " 0   name        892 non-null    object\n",
      " 1   company     892 non-null    object\n",
      " 2   year        892 non-null    object\n",
      " 3   Price       892 non-null    object\n",
      " 4   kms_driven  840 non-null    object\n",
      " 5   fuel_type   837 non-null    object\n",
      "dtypes: object(6)\n",
      "memory usage: 41.9+ KB\n"
     ]
    }
   ],
   "source": [
    "car.info()\n"
   ]
  },
  {
   "cell_type": "code",
   "execution_count": 5,
   "id": "02c8e5e7",
   "metadata": {},
   "outputs": [
    {
     "data": {
      "text/plain": [
       "array(['Petrol', 'Diesel', nan, 'LPG'], dtype=object)"
      ]
     },
     "execution_count": 5,
     "metadata": {},
     "output_type": "execute_result"
    }
   ],
   "source": [
    "\n",
    "car['fuel_type'].unique()\n"
   ]
  },
  {
   "cell_type": "code",
   "execution_count": 6,
   "id": "c6efaa7d",
   "metadata": {},
   "outputs": [],
   "source": [
    "##Quality\n",
    "# -year has many non-year\n",
    "# -price has ask for price\n",
    "# - year obj. to int\n",
    "# -kms_driven has kms with integers\n",
    "# kms_driven object to int\n",
    "# - kms_driven as nan values\n",
    "\n",
    "# fule_type has nan values\n",
    "# -keeps first 3 words of name\n"
   ]
  },
  {
   "cell_type": "code",
   "execution_count": 7,
   "id": "e224ebb5",
   "metadata": {},
   "outputs": [],
   "source": [
    "backup=car.copy()\n",
    "car=backup"
   ]
  },
  {
   "cell_type": "code",
   "execution_count": 8,
   "id": "f9acf36f",
   "metadata": {
    "scrolled": true
   },
   "outputs": [],
   "source": [
    "car=car[car['year'].str.isnumeric() ]#in this we are dealing with the the values given is numerics or not\n",
    "# car.info()"
   ]
  },
  {
   "cell_type": "code",
   "execution_count": 9,
   "id": "3a4ac379",
   "metadata": {
    "scrolled": true
   },
   "outputs": [
    {
     "name": "stdout",
     "output_type": "stream",
     "text": [
      "<class 'pandas.core.frame.DataFrame'>\n",
      "Index: 842 entries, 0 to 891\n",
      "Data columns (total 6 columns):\n",
      " #   Column      Non-Null Count  Dtype \n",
      "---  ------      --------------  ----- \n",
      " 0   name        842 non-null    object\n",
      " 1   company     842 non-null    object\n",
      " 2   year        842 non-null    int32 \n",
      " 3   Price       842 non-null    object\n",
      " 4   kms_driven  840 non-null    object\n",
      " 5   fuel_type   837 non-null    object\n",
      "dtypes: int32(1), object(5)\n",
      "memory usage: 42.8+ KB\n"
     ]
    },
    {
     "name": "stderr",
     "output_type": "stream",
     "text": [
      "C:\\Users\\KIIT\\AppData\\Local\\Temp\\ipykernel_11648\\2049363205.py:2: SettingWithCopyWarning: \n",
      "A value is trying to be set on a copy of a slice from a DataFrame.\n",
      "Try using .loc[row_indexer,col_indexer] = value instead\n",
      "\n",
      "See the caveats in the documentation: https://pandas.pydata.org/pandas-docs/stable/user_guide/indexing.html#returning-a-view-versus-a-copy\n",
      "  car['year']=car['year'].astype(int)#in this we are converting the object type to int type\n"
     ]
    }
   ],
   "source": [
    "# car['year']=pd.to_numeric(car['year'],downcast = 'integer')#apply(pd.to_numeric)\n",
    "car['year']=car['year'].astype(int)#in this we are converting the object type to int type\n",
    "# car.dtypes\n",
    "car.info()"
   ]
  },
  {
   "cell_type": "code",
   "execution_count": 10,
   "id": "53fa370d",
   "metadata": {},
   "outputs": [],
   "source": [
    "# car['year'] = car['year'].replace('...', np.nan)"
   ]
  },
  {
   "cell_type": "code",
   "execution_count": 11,
   "id": "3651cb36",
   "metadata": {},
   "outputs": [],
   "source": [
    "car=car[car['Price']!=\"Ask For Price\"]"
   ]
  },
  {
   "cell_type": "code",
   "execution_count": 12,
   "id": "cb96b811",
   "metadata": {},
   "outputs": [
    {
     "name": "stdout",
     "output_type": "stream",
     "text": [
      "<class 'pandas.core.frame.DataFrame'>\n",
      "Index: 819 entries, 0 to 891\n",
      "Data columns (total 6 columns):\n",
      " #   Column      Non-Null Count  Dtype \n",
      "---  ------      --------------  ----- \n",
      " 0   name        819 non-null    object\n",
      " 1   company     819 non-null    object\n",
      " 2   year        819 non-null    int32 \n",
      " 3   Price       819 non-null    int32 \n",
      " 4   kms_driven  819 non-null    object\n",
      " 5   fuel_type   816 non-null    object\n",
      "dtypes: int32(2), object(4)\n",
      "memory usage: 38.4+ KB\n"
     ]
    }
   ],
   "source": [
    "car['Price']=car['Price'].str.replace(',','').astype(int)\n",
    "car.info()"
   ]
  },
  {
   "cell_type": "code",
   "execution_count": 13,
   "id": "c21adc65",
   "metadata": {},
   "outputs": [],
   "source": [
    "car['kms_driven']=car['kms_driven'].str.split(' ').str.get(0).str.replace(',','')"
   ]
  },
  {
   "cell_type": "code",
   "execution_count": 14,
   "id": "6cf7daf2",
   "metadata": {},
   "outputs": [
    {
     "name": "stdout",
     "output_type": "stream",
     "text": [
      "<class 'pandas.core.frame.DataFrame'>\n",
      "Index: 817 entries, 0 to 889\n",
      "Data columns (total 6 columns):\n",
      " #   Column      Non-Null Count  Dtype \n",
      "---  ------      --------------  ----- \n",
      " 0   name        817 non-null    object\n",
      " 1   company     817 non-null    object\n",
      " 2   year        817 non-null    int32 \n",
      " 3   Price       817 non-null    int32 \n",
      " 4   kms_driven  817 non-null    int32 \n",
      " 5   fuel_type   816 non-null    object\n",
      "dtypes: int32(3), object(3)\n",
      "memory usage: 35.1+ KB\n"
     ]
    }
   ],
   "source": [
    "car=car[car['kms_driven'].str.isnumeric()]\n",
    "car['kms_driven']=car['kms_driven'].astype(int)\n",
    "car.info()"
   ]
  },
  {
   "cell_type": "code",
   "execution_count": 15,
   "id": "e020528a",
   "metadata": {},
   "outputs": [
    {
     "name": "stdout",
     "output_type": "stream",
     "text": [
      "<class 'pandas.core.frame.DataFrame'>\n",
      "Index: 816 entries, 0 to 889\n",
      "Data columns (total 6 columns):\n",
      " #   Column      Non-Null Count  Dtype \n",
      "---  ------      --------------  ----- \n",
      " 0   name        816 non-null    object\n",
      " 1   company     816 non-null    object\n",
      " 2   year        816 non-null    int32 \n",
      " 3   Price       816 non-null    int32 \n",
      " 4   kms_driven  816 non-null    int32 \n",
      " 5   fuel_type   816 non-null    object\n",
      "dtypes: int32(3), object(3)\n",
      "memory usage: 35.1+ KB\n"
     ]
    }
   ],
   "source": [
    "car=car[~car['fuel_type'].isna()]#na is used to check anyy null value is presnet or not\n",
    "car.info()"
   ]
  },
  {
   "cell_type": "code",
   "execution_count": 16,
   "id": "6b9da004",
   "metadata": {},
   "outputs": [],
   "source": [
    "car['name']=car['name'].str.split(' ').str.slice(0,3).str.join(' ')"
   ]
  },
  {
   "cell_type": "code",
   "execution_count": 17,
   "id": "ad59ab24",
   "metadata": {},
   "outputs": [
    {
     "data": {
      "text/html": [
       "<div>\n",
       "<style scoped>\n",
       "    .dataframe tbody tr th:only-of-type {\n",
       "        vertical-align: middle;\n",
       "    }\n",
       "\n",
       "    .dataframe tbody tr th {\n",
       "        vertical-align: top;\n",
       "    }\n",
       "\n",
       "    .dataframe thead th {\n",
       "        text-align: right;\n",
       "    }\n",
       "</style>\n",
       "<table border=\"1\" class=\"dataframe\">\n",
       "  <thead>\n",
       "    <tr style=\"text-align: right;\">\n",
       "      <th></th>\n",
       "      <th>name</th>\n",
       "      <th>company</th>\n",
       "      <th>year</th>\n",
       "      <th>Price</th>\n",
       "      <th>kms_driven</th>\n",
       "      <th>fuel_type</th>\n",
       "    </tr>\n",
       "  </thead>\n",
       "  <tbody>\n",
       "    <tr>\n",
       "      <th>0</th>\n",
       "      <td>Hyundai Santro Xing</td>\n",
       "      <td>Hyundai</td>\n",
       "      <td>2007</td>\n",
       "      <td>80000</td>\n",
       "      <td>45000</td>\n",
       "      <td>Petrol</td>\n",
       "    </tr>\n",
       "    <tr>\n",
       "      <th>1</th>\n",
       "      <td>Mahindra Jeep CL550</td>\n",
       "      <td>Mahindra</td>\n",
       "      <td>2006</td>\n",
       "      <td>425000</td>\n",
       "      <td>40</td>\n",
       "      <td>Diesel</td>\n",
       "    </tr>\n",
       "    <tr>\n",
       "      <th>2</th>\n",
       "      <td>Hyundai Grand i10</td>\n",
       "      <td>Hyundai</td>\n",
       "      <td>2014</td>\n",
       "      <td>325000</td>\n",
       "      <td>28000</td>\n",
       "      <td>Petrol</td>\n",
       "    </tr>\n",
       "    <tr>\n",
       "      <th>3</th>\n",
       "      <td>Ford EcoSport Titanium</td>\n",
       "      <td>Ford</td>\n",
       "      <td>2014</td>\n",
       "      <td>575000</td>\n",
       "      <td>36000</td>\n",
       "      <td>Diesel</td>\n",
       "    </tr>\n",
       "    <tr>\n",
       "      <th>4</th>\n",
       "      <td>Ford Figo</td>\n",
       "      <td>Ford</td>\n",
       "      <td>2012</td>\n",
       "      <td>175000</td>\n",
       "      <td>41000</td>\n",
       "      <td>Diesel</td>\n",
       "    </tr>\n",
       "    <tr>\n",
       "      <th>...</th>\n",
       "      <td>...</td>\n",
       "      <td>...</td>\n",
       "      <td>...</td>\n",
       "      <td>...</td>\n",
       "      <td>...</td>\n",
       "      <td>...</td>\n",
       "    </tr>\n",
       "    <tr>\n",
       "      <th>811</th>\n",
       "      <td>Maruti Suzuki Ritz</td>\n",
       "      <td>Maruti</td>\n",
       "      <td>2011</td>\n",
       "      <td>270000</td>\n",
       "      <td>50000</td>\n",
       "      <td>Petrol</td>\n",
       "    </tr>\n",
       "    <tr>\n",
       "      <th>812</th>\n",
       "      <td>Tata Indica V2</td>\n",
       "      <td>Tata</td>\n",
       "      <td>2009</td>\n",
       "      <td>110000</td>\n",
       "      <td>30000</td>\n",
       "      <td>Diesel</td>\n",
       "    </tr>\n",
       "    <tr>\n",
       "      <th>813</th>\n",
       "      <td>Toyota Corolla Altis</td>\n",
       "      <td>Toyota</td>\n",
       "      <td>2009</td>\n",
       "      <td>300000</td>\n",
       "      <td>132000</td>\n",
       "      <td>Petrol</td>\n",
       "    </tr>\n",
       "    <tr>\n",
       "      <th>814</th>\n",
       "      <td>Tata Zest XM</td>\n",
       "      <td>Tata</td>\n",
       "      <td>2018</td>\n",
       "      <td>260000</td>\n",
       "      <td>27000</td>\n",
       "      <td>Diesel</td>\n",
       "    </tr>\n",
       "    <tr>\n",
       "      <th>815</th>\n",
       "      <td>Mahindra Quanto C8</td>\n",
       "      <td>Mahindra</td>\n",
       "      <td>2013</td>\n",
       "      <td>390000</td>\n",
       "      <td>40000</td>\n",
       "      <td>Diesel</td>\n",
       "    </tr>\n",
       "  </tbody>\n",
       "</table>\n",
       "<p>816 rows × 6 columns</p>\n",
       "</div>"
      ],
      "text/plain": [
       "                       name   company  year   Price  kms_driven fuel_type\n",
       "0       Hyundai Santro Xing   Hyundai  2007   80000       45000    Petrol\n",
       "1       Mahindra Jeep CL550  Mahindra  2006  425000          40    Diesel\n",
       "2         Hyundai Grand i10   Hyundai  2014  325000       28000    Petrol\n",
       "3    Ford EcoSport Titanium      Ford  2014  575000       36000    Diesel\n",
       "4                 Ford Figo      Ford  2012  175000       41000    Diesel\n",
       "..                      ...       ...   ...     ...         ...       ...\n",
       "811      Maruti Suzuki Ritz    Maruti  2011  270000       50000    Petrol\n",
       "812          Tata Indica V2      Tata  2009  110000       30000    Diesel\n",
       "813    Toyota Corolla Altis    Toyota  2009  300000      132000    Petrol\n",
       "814            Tata Zest XM      Tata  2018  260000       27000    Diesel\n",
       "815      Mahindra Quanto C8  Mahindra  2013  390000       40000    Diesel\n",
       "\n",
       "[816 rows x 6 columns]"
      ]
     },
     "execution_count": 17,
     "metadata": {},
     "output_type": "execute_result"
    }
   ],
   "source": [
    "car=car.reset_index(drop=True)\n",
    "car"
   ]
  },
  {
   "cell_type": "code",
   "execution_count": 18,
   "id": "650aa234",
   "metadata": {},
   "outputs": [
    {
     "data": {
      "text/html": [
       "<div>\n",
       "<style scoped>\n",
       "    .dataframe tbody tr th:only-of-type {\n",
       "        vertical-align: middle;\n",
       "    }\n",
       "\n",
       "    .dataframe tbody tr th {\n",
       "        vertical-align: top;\n",
       "    }\n",
       "\n",
       "    .dataframe thead th {\n",
       "        text-align: right;\n",
       "    }\n",
       "</style>\n",
       "<table border=\"1\" class=\"dataframe\">\n",
       "  <thead>\n",
       "    <tr style=\"text-align: right;\">\n",
       "      <th></th>\n",
       "      <th>year</th>\n",
       "      <th>Price</th>\n",
       "      <th>kms_driven</th>\n",
       "    </tr>\n",
       "  </thead>\n",
       "  <tbody>\n",
       "    <tr>\n",
       "      <th>count</th>\n",
       "      <td>816.000000</td>\n",
       "      <td>8.160000e+02</td>\n",
       "      <td>816.000000</td>\n",
       "    </tr>\n",
       "    <tr>\n",
       "      <th>mean</th>\n",
       "      <td>2012.444853</td>\n",
       "      <td>4.117176e+05</td>\n",
       "      <td>46275.531863</td>\n",
       "    </tr>\n",
       "    <tr>\n",
       "      <th>std</th>\n",
       "      <td>4.002992</td>\n",
       "      <td>4.751844e+05</td>\n",
       "      <td>34297.428044</td>\n",
       "    </tr>\n",
       "    <tr>\n",
       "      <th>min</th>\n",
       "      <td>1995.000000</td>\n",
       "      <td>3.000000e+04</td>\n",
       "      <td>0.000000</td>\n",
       "    </tr>\n",
       "    <tr>\n",
       "      <th>25%</th>\n",
       "      <td>2010.000000</td>\n",
       "      <td>1.750000e+05</td>\n",
       "      <td>27000.000000</td>\n",
       "    </tr>\n",
       "    <tr>\n",
       "      <th>50%</th>\n",
       "      <td>2013.000000</td>\n",
       "      <td>2.999990e+05</td>\n",
       "      <td>41000.000000</td>\n",
       "    </tr>\n",
       "    <tr>\n",
       "      <th>75%</th>\n",
       "      <td>2015.000000</td>\n",
       "      <td>4.912500e+05</td>\n",
       "      <td>56818.500000</td>\n",
       "    </tr>\n",
       "    <tr>\n",
       "      <th>max</th>\n",
       "      <td>2019.000000</td>\n",
       "      <td>8.500003e+06</td>\n",
       "      <td>400000.000000</td>\n",
       "    </tr>\n",
       "  </tbody>\n",
       "</table>\n",
       "</div>"
      ],
      "text/plain": [
       "              year         Price     kms_driven\n",
       "count   816.000000  8.160000e+02     816.000000\n",
       "mean   2012.444853  4.117176e+05   46275.531863\n",
       "std       4.002992  4.751844e+05   34297.428044\n",
       "min    1995.000000  3.000000e+04       0.000000\n",
       "25%    2010.000000  1.750000e+05   27000.000000\n",
       "50%    2013.000000  2.999990e+05   41000.000000\n",
       "75%    2015.000000  4.912500e+05   56818.500000\n",
       "max    2019.000000  8.500003e+06  400000.000000"
      ]
     },
     "execution_count": 18,
     "metadata": {},
     "output_type": "execute_result"
    }
   ],
   "source": [
    "car.describe()"
   ]
  },
  {
   "cell_type": "raw",
   "id": "26041fa4",
   "metadata": {},
   "source": []
  },
  {
   "cell_type": "code",
   "execution_count": 19,
   "id": "689fc32e",
   "metadata": {},
   "outputs": [],
   "source": [
    "car=car[car['Price']<6e6].reset_index(drop=True)"
   ]
  },
  {
   "cell_type": "code",
   "execution_count": 20,
   "id": "68fe29a6",
   "metadata": {},
   "outputs": [
    {
     "data": {
      "text/html": [
       "<div>\n",
       "<style scoped>\n",
       "    .dataframe tbody tr th:only-of-type {\n",
       "        vertical-align: middle;\n",
       "    }\n",
       "\n",
       "    .dataframe tbody tr th {\n",
       "        vertical-align: top;\n",
       "    }\n",
       "\n",
       "    .dataframe thead th {\n",
       "        text-align: right;\n",
       "    }\n",
       "</style>\n",
       "<table border=\"1\" class=\"dataframe\">\n",
       "  <thead>\n",
       "    <tr style=\"text-align: right;\">\n",
       "      <th></th>\n",
       "      <th>name</th>\n",
       "      <th>company</th>\n",
       "      <th>year</th>\n",
       "      <th>Price</th>\n",
       "      <th>kms_driven</th>\n",
       "      <th>fuel_type</th>\n",
       "    </tr>\n",
       "  </thead>\n",
       "  <tbody>\n",
       "    <tr>\n",
       "      <th>0</th>\n",
       "      <td>Hyundai Santro Xing</td>\n",
       "      <td>Hyundai</td>\n",
       "      <td>2007</td>\n",
       "      <td>80000</td>\n",
       "      <td>45000</td>\n",
       "      <td>Petrol</td>\n",
       "    </tr>\n",
       "    <tr>\n",
       "      <th>1</th>\n",
       "      <td>Mahindra Jeep CL550</td>\n",
       "      <td>Mahindra</td>\n",
       "      <td>2006</td>\n",
       "      <td>425000</td>\n",
       "      <td>40</td>\n",
       "      <td>Diesel</td>\n",
       "    </tr>\n",
       "    <tr>\n",
       "      <th>2</th>\n",
       "      <td>Hyundai Grand i10</td>\n",
       "      <td>Hyundai</td>\n",
       "      <td>2014</td>\n",
       "      <td>325000</td>\n",
       "      <td>28000</td>\n",
       "      <td>Petrol</td>\n",
       "    </tr>\n",
       "    <tr>\n",
       "      <th>3</th>\n",
       "      <td>Ford EcoSport Titanium</td>\n",
       "      <td>Ford</td>\n",
       "      <td>2014</td>\n",
       "      <td>575000</td>\n",
       "      <td>36000</td>\n",
       "      <td>Diesel</td>\n",
       "    </tr>\n",
       "    <tr>\n",
       "      <th>4</th>\n",
       "      <td>Ford Figo</td>\n",
       "      <td>Ford</td>\n",
       "      <td>2012</td>\n",
       "      <td>175000</td>\n",
       "      <td>41000</td>\n",
       "      <td>Diesel</td>\n",
       "    </tr>\n",
       "    <tr>\n",
       "      <th>...</th>\n",
       "      <td>...</td>\n",
       "      <td>...</td>\n",
       "      <td>...</td>\n",
       "      <td>...</td>\n",
       "      <td>...</td>\n",
       "      <td>...</td>\n",
       "    </tr>\n",
       "    <tr>\n",
       "      <th>810</th>\n",
       "      <td>Maruti Suzuki Ritz</td>\n",
       "      <td>Maruti</td>\n",
       "      <td>2011</td>\n",
       "      <td>270000</td>\n",
       "      <td>50000</td>\n",
       "      <td>Petrol</td>\n",
       "    </tr>\n",
       "    <tr>\n",
       "      <th>811</th>\n",
       "      <td>Tata Indica V2</td>\n",
       "      <td>Tata</td>\n",
       "      <td>2009</td>\n",
       "      <td>110000</td>\n",
       "      <td>30000</td>\n",
       "      <td>Diesel</td>\n",
       "    </tr>\n",
       "    <tr>\n",
       "      <th>812</th>\n",
       "      <td>Toyota Corolla Altis</td>\n",
       "      <td>Toyota</td>\n",
       "      <td>2009</td>\n",
       "      <td>300000</td>\n",
       "      <td>132000</td>\n",
       "      <td>Petrol</td>\n",
       "    </tr>\n",
       "    <tr>\n",
       "      <th>813</th>\n",
       "      <td>Tata Zest XM</td>\n",
       "      <td>Tata</td>\n",
       "      <td>2018</td>\n",
       "      <td>260000</td>\n",
       "      <td>27000</td>\n",
       "      <td>Diesel</td>\n",
       "    </tr>\n",
       "    <tr>\n",
       "      <th>814</th>\n",
       "      <td>Mahindra Quanto C8</td>\n",
       "      <td>Mahindra</td>\n",
       "      <td>2013</td>\n",
       "      <td>390000</td>\n",
       "      <td>40000</td>\n",
       "      <td>Diesel</td>\n",
       "    </tr>\n",
       "  </tbody>\n",
       "</table>\n",
       "<p>815 rows × 6 columns</p>\n",
       "</div>"
      ],
      "text/plain": [
       "                       name   company  year   Price  kms_driven fuel_type\n",
       "0       Hyundai Santro Xing   Hyundai  2007   80000       45000    Petrol\n",
       "1       Mahindra Jeep CL550  Mahindra  2006  425000          40    Diesel\n",
       "2         Hyundai Grand i10   Hyundai  2014  325000       28000    Petrol\n",
       "3    Ford EcoSport Titanium      Ford  2014  575000       36000    Diesel\n",
       "4                 Ford Figo      Ford  2012  175000       41000    Diesel\n",
       "..                      ...       ...   ...     ...         ...       ...\n",
       "810      Maruti Suzuki Ritz    Maruti  2011  270000       50000    Petrol\n",
       "811          Tata Indica V2      Tata  2009  110000       30000    Diesel\n",
       "812    Toyota Corolla Altis    Toyota  2009  300000      132000    Petrol\n",
       "813            Tata Zest XM      Tata  2018  260000       27000    Diesel\n",
       "814      Mahindra Quanto C8  Mahindra  2013  390000       40000    Diesel\n",
       "\n",
       "[815 rows x 6 columns]"
      ]
     },
     "execution_count": 20,
     "metadata": {},
     "output_type": "execute_result"
    }
   ],
   "source": [
    "car"
   ]
  },
  {
   "cell_type": "code",
   "execution_count": 21,
   "id": "31023bcf",
   "metadata": {},
   "outputs": [],
   "source": [
    "car.to_csv('Cleaned car.csv')"
   ]
  },
  {
   "cell_type": "code",
   "execution_count": 22,
   "id": "21393569",
   "metadata": {},
   "outputs": [],
   "source": [
    "x=car.drop(columns='Price')\n",
    "y=car['Price']"
   ]
  },
  {
   "cell_type": "code",
   "execution_count": 23,
   "id": "b13a39ab",
   "metadata": {},
   "outputs": [
    {
     "data": {
      "text/html": [
       "<div>\n",
       "<style scoped>\n",
       "    .dataframe tbody tr th:only-of-type {\n",
       "        vertical-align: middle;\n",
       "    }\n",
       "\n",
       "    .dataframe tbody tr th {\n",
       "        vertical-align: top;\n",
       "    }\n",
       "\n",
       "    .dataframe thead th {\n",
       "        text-align: right;\n",
       "    }\n",
       "</style>\n",
       "<table border=\"1\" class=\"dataframe\">\n",
       "  <thead>\n",
       "    <tr style=\"text-align: right;\">\n",
       "      <th></th>\n",
       "      <th>name</th>\n",
       "      <th>company</th>\n",
       "      <th>year</th>\n",
       "      <th>kms_driven</th>\n",
       "      <th>fuel_type</th>\n",
       "    </tr>\n",
       "  </thead>\n",
       "  <tbody>\n",
       "    <tr>\n",
       "      <th>0</th>\n",
       "      <td>Hyundai Santro Xing</td>\n",
       "      <td>Hyundai</td>\n",
       "      <td>2007</td>\n",
       "      <td>45000</td>\n",
       "      <td>Petrol</td>\n",
       "    </tr>\n",
       "    <tr>\n",
       "      <th>1</th>\n",
       "      <td>Mahindra Jeep CL550</td>\n",
       "      <td>Mahindra</td>\n",
       "      <td>2006</td>\n",
       "      <td>40</td>\n",
       "      <td>Diesel</td>\n",
       "    </tr>\n",
       "    <tr>\n",
       "      <th>2</th>\n",
       "      <td>Hyundai Grand i10</td>\n",
       "      <td>Hyundai</td>\n",
       "      <td>2014</td>\n",
       "      <td>28000</td>\n",
       "      <td>Petrol</td>\n",
       "    </tr>\n",
       "    <tr>\n",
       "      <th>3</th>\n",
       "      <td>Ford EcoSport Titanium</td>\n",
       "      <td>Ford</td>\n",
       "      <td>2014</td>\n",
       "      <td>36000</td>\n",
       "      <td>Diesel</td>\n",
       "    </tr>\n",
       "    <tr>\n",
       "      <th>4</th>\n",
       "      <td>Ford Figo</td>\n",
       "      <td>Ford</td>\n",
       "      <td>2012</td>\n",
       "      <td>41000</td>\n",
       "      <td>Diesel</td>\n",
       "    </tr>\n",
       "    <tr>\n",
       "      <th>...</th>\n",
       "      <td>...</td>\n",
       "      <td>...</td>\n",
       "      <td>...</td>\n",
       "      <td>...</td>\n",
       "      <td>...</td>\n",
       "    </tr>\n",
       "    <tr>\n",
       "      <th>810</th>\n",
       "      <td>Maruti Suzuki Ritz</td>\n",
       "      <td>Maruti</td>\n",
       "      <td>2011</td>\n",
       "      <td>50000</td>\n",
       "      <td>Petrol</td>\n",
       "    </tr>\n",
       "    <tr>\n",
       "      <th>811</th>\n",
       "      <td>Tata Indica V2</td>\n",
       "      <td>Tata</td>\n",
       "      <td>2009</td>\n",
       "      <td>30000</td>\n",
       "      <td>Diesel</td>\n",
       "    </tr>\n",
       "    <tr>\n",
       "      <th>812</th>\n",
       "      <td>Toyota Corolla Altis</td>\n",
       "      <td>Toyota</td>\n",
       "      <td>2009</td>\n",
       "      <td>132000</td>\n",
       "      <td>Petrol</td>\n",
       "    </tr>\n",
       "    <tr>\n",
       "      <th>813</th>\n",
       "      <td>Tata Zest XM</td>\n",
       "      <td>Tata</td>\n",
       "      <td>2018</td>\n",
       "      <td>27000</td>\n",
       "      <td>Diesel</td>\n",
       "    </tr>\n",
       "    <tr>\n",
       "      <th>814</th>\n",
       "      <td>Mahindra Quanto C8</td>\n",
       "      <td>Mahindra</td>\n",
       "      <td>2013</td>\n",
       "      <td>40000</td>\n",
       "      <td>Diesel</td>\n",
       "    </tr>\n",
       "  </tbody>\n",
       "</table>\n",
       "<p>815 rows × 5 columns</p>\n",
       "</div>"
      ],
      "text/plain": [
       "                       name   company  year  kms_driven fuel_type\n",
       "0       Hyundai Santro Xing   Hyundai  2007       45000    Petrol\n",
       "1       Mahindra Jeep CL550  Mahindra  2006          40    Diesel\n",
       "2         Hyundai Grand i10   Hyundai  2014       28000    Petrol\n",
       "3    Ford EcoSport Titanium      Ford  2014       36000    Diesel\n",
       "4                 Ford Figo      Ford  2012       41000    Diesel\n",
       "..                      ...       ...   ...         ...       ...\n",
       "810      Maruti Suzuki Ritz    Maruti  2011       50000    Petrol\n",
       "811          Tata Indica V2      Tata  2009       30000    Diesel\n",
       "812    Toyota Corolla Altis    Toyota  2009      132000    Petrol\n",
       "813            Tata Zest XM      Tata  2018       27000    Diesel\n",
       "814      Mahindra Quanto C8  Mahindra  2013       40000    Diesel\n",
       "\n",
       "[815 rows x 5 columns]"
      ]
     },
     "execution_count": 23,
     "metadata": {},
     "output_type": "execute_result"
    }
   ],
   "source": [
    "x"
   ]
  },
  {
   "cell_type": "code",
   "execution_count": 24,
   "id": "330f60cf",
   "metadata": {},
   "outputs": [
    {
     "data": {
      "text/plain": [
       "0       80000\n",
       "1      425000\n",
       "2      325000\n",
       "3      575000\n",
       "4      175000\n",
       "        ...  \n",
       "810    270000\n",
       "811    110000\n",
       "812    300000\n",
       "813    260000\n",
       "814    390000\n",
       "Name: Price, Length: 815, dtype: int32"
      ]
     },
     "execution_count": 24,
     "metadata": {},
     "output_type": "execute_result"
    }
   ],
   "source": [
    "y\n",
    "#include<55>"
   ]
  },
  {
   "cell_type": "code",
   "execution_count": 25,
   "id": "c05d4dcf",
   "metadata": {},
   "outputs": [],
   "source": [
    "from sklearn.model_selection import  train_test_split\n",
    "X_train, X_test,y_train, y_test=train_test_split(x,y,test_size=0.2) "
   ]
  },
  {
   "cell_type": "code",
   "execution_count": 26,
   "id": "b646feb3",
   "metadata": {},
   "outputs": [],
   "source": [
    "from sklearn.linear_model import LinearRegression\n",
    "from sklearn.metrics import r2_score\n",
    "from sklearn.preprocessing import OneHotEncoder\n",
    "from sklearn.compose import make_column_transformer\n",
    "from sklearn.pipeline import make_pipeline"
   ]
  },
  {
   "cell_type": "code",
   "execution_count": 27,
   "id": "0154d0a2",
   "metadata": {},
   "outputs": [
    {
     "data": {
      "text/html": [
       "<style>#sk-container-id-1 {color: black;}#sk-container-id-1 pre{padding: 0;}#sk-container-id-1 div.sk-toggleable {background-color: white;}#sk-container-id-1 label.sk-toggleable__label {cursor: pointer;display: block;width: 100%;margin-bottom: 0;padding: 0.3em;box-sizing: border-box;text-align: center;}#sk-container-id-1 label.sk-toggleable__label-arrow:before {content: \"▸\";float: left;margin-right: 0.25em;color: #696969;}#sk-container-id-1 label.sk-toggleable__label-arrow:hover:before {color: black;}#sk-container-id-1 div.sk-estimator:hover label.sk-toggleable__label-arrow:before {color: black;}#sk-container-id-1 div.sk-toggleable__content {max-height: 0;max-width: 0;overflow: hidden;text-align: left;background-color: #f0f8ff;}#sk-container-id-1 div.sk-toggleable__content pre {margin: 0.2em;color: black;border-radius: 0.25em;background-color: #f0f8ff;}#sk-container-id-1 input.sk-toggleable__control:checked~div.sk-toggleable__content {max-height: 200px;max-width: 100%;overflow: auto;}#sk-container-id-1 input.sk-toggleable__control:checked~label.sk-toggleable__label-arrow:before {content: \"▾\";}#sk-container-id-1 div.sk-estimator input.sk-toggleable__control:checked~label.sk-toggleable__label {background-color: #d4ebff;}#sk-container-id-1 div.sk-label input.sk-toggleable__control:checked~label.sk-toggleable__label {background-color: #d4ebff;}#sk-container-id-1 input.sk-hidden--visually {border: 0;clip: rect(1px 1px 1px 1px);clip: rect(1px, 1px, 1px, 1px);height: 1px;margin: -1px;overflow: hidden;padding: 0;position: absolute;width: 1px;}#sk-container-id-1 div.sk-estimator {font-family: monospace;background-color: #f0f8ff;border: 1px dotted black;border-radius: 0.25em;box-sizing: border-box;margin-bottom: 0.5em;}#sk-container-id-1 div.sk-estimator:hover {background-color: #d4ebff;}#sk-container-id-1 div.sk-parallel-item::after {content: \"\";width: 100%;border-bottom: 1px solid gray;flex-grow: 1;}#sk-container-id-1 div.sk-label:hover label.sk-toggleable__label {background-color: #d4ebff;}#sk-container-id-1 div.sk-serial::before {content: \"\";position: absolute;border-left: 1px solid gray;box-sizing: border-box;top: 0;bottom: 0;left: 50%;z-index: 0;}#sk-container-id-1 div.sk-serial {display: flex;flex-direction: column;align-items: center;background-color: white;padding-right: 0.2em;padding-left: 0.2em;position: relative;}#sk-container-id-1 div.sk-item {position: relative;z-index: 1;}#sk-container-id-1 div.sk-parallel {display: flex;align-items: stretch;justify-content: center;background-color: white;position: relative;}#sk-container-id-1 div.sk-item::before, #sk-container-id-1 div.sk-parallel-item::before {content: \"\";position: absolute;border-left: 1px solid gray;box-sizing: border-box;top: 0;bottom: 0;left: 50%;z-index: -1;}#sk-container-id-1 div.sk-parallel-item {display: flex;flex-direction: column;z-index: 1;position: relative;background-color: white;}#sk-container-id-1 div.sk-parallel-item:first-child::after {align-self: flex-end;width: 50%;}#sk-container-id-1 div.sk-parallel-item:last-child::after {align-self: flex-start;width: 50%;}#sk-container-id-1 div.sk-parallel-item:only-child::after {width: 0;}#sk-container-id-1 div.sk-dashed-wrapped {border: 1px dashed gray;margin: 0 0.4em 0.5em 0.4em;box-sizing: border-box;padding-bottom: 0.4em;background-color: white;}#sk-container-id-1 div.sk-label label {font-family: monospace;font-weight: bold;display: inline-block;line-height: 1.2em;}#sk-container-id-1 div.sk-label-container {text-align: center;}#sk-container-id-1 div.sk-container {/* jupyter's `normalize.less` sets `[hidden] { display: none; }` but bootstrap.min.css set `[hidden] { display: none !important; }` so we also need the `!important` here to be able to override the default hidden behavior on the sphinx rendered scikit-learn.org. See: https://github.com/scikit-learn/scikit-learn/issues/21755 */display: inline-block !important;position: relative;}#sk-container-id-1 div.sk-text-repr-fallback {display: none;}</style><div id=\"sk-container-id-1\" class=\"sk-top-container\"><div class=\"sk-text-repr-fallback\"><pre>OneHotEncoder()</pre><b>In a Jupyter environment, please rerun this cell to show the HTML representation or trust the notebook. <br />On GitHub, the HTML representation is unable to render, please try loading this page with nbviewer.org.</b></div><div class=\"sk-container\" hidden><div class=\"sk-item\"><div class=\"sk-estimator sk-toggleable\"><input class=\"sk-toggleable__control sk-hidden--visually\" id=\"sk-estimator-id-1\" type=\"checkbox\" checked><label for=\"sk-estimator-id-1\" class=\"sk-toggleable__label sk-toggleable__label-arrow\">OneHotEncoder</label><div class=\"sk-toggleable__content\"><pre>OneHotEncoder()</pre></div></div></div></div></div>"
      ],
      "text/plain": [
       "OneHotEncoder()"
      ]
     },
     "execution_count": 27,
     "metadata": {},
     "output_type": "execute_result"
    }
   ],
   "source": [
    "ohe=OneHotEncoder()\n",
    "ohe.fit(x[['name','company','fuel_type']])"
   ]
  },
  {
   "cell_type": "code",
   "execution_count": 28,
   "id": "c671f3f3",
   "metadata": {},
   "outputs": [],
   "source": [
    "column_trans=make_column_transformer((OneHotEncoder(categories=ohe.categories_),['name','company','fuel_type']),remainder='passthrough')"
   ]
  },
  {
   "cell_type": "code",
   "execution_count": 29,
   "id": "3860cc03",
   "metadata": {},
   "outputs": [],
   "source": [
    "lr=LinearRegression()"
   ]
  },
  {
   "cell_type": "code",
   "execution_count": 30,
   "id": "7e67a1b3",
   "metadata": {},
   "outputs": [],
   "source": [
    "pipe=make_pipeline(column_trans,lr)"
   ]
  },
  {
   "cell_type": "code",
   "execution_count": 31,
   "id": "e5d41d50",
   "metadata": {},
   "outputs": [
    {
     "data": {
      "text/html": [
       "<style>#sk-container-id-2 {color: black;}#sk-container-id-2 pre{padding: 0;}#sk-container-id-2 div.sk-toggleable {background-color: white;}#sk-container-id-2 label.sk-toggleable__label {cursor: pointer;display: block;width: 100%;margin-bottom: 0;padding: 0.3em;box-sizing: border-box;text-align: center;}#sk-container-id-2 label.sk-toggleable__label-arrow:before {content: \"▸\";float: left;margin-right: 0.25em;color: #696969;}#sk-container-id-2 label.sk-toggleable__label-arrow:hover:before {color: black;}#sk-container-id-2 div.sk-estimator:hover label.sk-toggleable__label-arrow:before {color: black;}#sk-container-id-2 div.sk-toggleable__content {max-height: 0;max-width: 0;overflow: hidden;text-align: left;background-color: #f0f8ff;}#sk-container-id-2 div.sk-toggleable__content pre {margin: 0.2em;color: black;border-radius: 0.25em;background-color: #f0f8ff;}#sk-container-id-2 input.sk-toggleable__control:checked~div.sk-toggleable__content {max-height: 200px;max-width: 100%;overflow: auto;}#sk-container-id-2 input.sk-toggleable__control:checked~label.sk-toggleable__label-arrow:before {content: \"▾\";}#sk-container-id-2 div.sk-estimator input.sk-toggleable__control:checked~label.sk-toggleable__label {background-color: #d4ebff;}#sk-container-id-2 div.sk-label input.sk-toggleable__control:checked~label.sk-toggleable__label {background-color: #d4ebff;}#sk-container-id-2 input.sk-hidden--visually {border: 0;clip: rect(1px 1px 1px 1px);clip: rect(1px, 1px, 1px, 1px);height: 1px;margin: -1px;overflow: hidden;padding: 0;position: absolute;width: 1px;}#sk-container-id-2 div.sk-estimator {font-family: monospace;background-color: #f0f8ff;border: 1px dotted black;border-radius: 0.25em;box-sizing: border-box;margin-bottom: 0.5em;}#sk-container-id-2 div.sk-estimator:hover {background-color: #d4ebff;}#sk-container-id-2 div.sk-parallel-item::after {content: \"\";width: 100%;border-bottom: 1px solid gray;flex-grow: 1;}#sk-container-id-2 div.sk-label:hover label.sk-toggleable__label {background-color: #d4ebff;}#sk-container-id-2 div.sk-serial::before {content: \"\";position: absolute;border-left: 1px solid gray;box-sizing: border-box;top: 0;bottom: 0;left: 50%;z-index: 0;}#sk-container-id-2 div.sk-serial {display: flex;flex-direction: column;align-items: center;background-color: white;padding-right: 0.2em;padding-left: 0.2em;position: relative;}#sk-container-id-2 div.sk-item {position: relative;z-index: 1;}#sk-container-id-2 div.sk-parallel {display: flex;align-items: stretch;justify-content: center;background-color: white;position: relative;}#sk-container-id-2 div.sk-item::before, #sk-container-id-2 div.sk-parallel-item::before {content: \"\";position: absolute;border-left: 1px solid gray;box-sizing: border-box;top: 0;bottom: 0;left: 50%;z-index: -1;}#sk-container-id-2 div.sk-parallel-item {display: flex;flex-direction: column;z-index: 1;position: relative;background-color: white;}#sk-container-id-2 div.sk-parallel-item:first-child::after {align-self: flex-end;width: 50%;}#sk-container-id-2 div.sk-parallel-item:last-child::after {align-self: flex-start;width: 50%;}#sk-container-id-2 div.sk-parallel-item:only-child::after {width: 0;}#sk-container-id-2 div.sk-dashed-wrapped {border: 1px dashed gray;margin: 0 0.4em 0.5em 0.4em;box-sizing: border-box;padding-bottom: 0.4em;background-color: white;}#sk-container-id-2 div.sk-label label {font-family: monospace;font-weight: bold;display: inline-block;line-height: 1.2em;}#sk-container-id-2 div.sk-label-container {text-align: center;}#sk-container-id-2 div.sk-container {/* jupyter's `normalize.less` sets `[hidden] { display: none; }` but bootstrap.min.css set `[hidden] { display: none !important; }` so we also need the `!important` here to be able to override the default hidden behavior on the sphinx rendered scikit-learn.org. See: https://github.com/scikit-learn/scikit-learn/issues/21755 */display: inline-block !important;position: relative;}#sk-container-id-2 div.sk-text-repr-fallback {display: none;}</style><div id=\"sk-container-id-2\" class=\"sk-top-container\"><div class=\"sk-text-repr-fallback\"><pre>Pipeline(steps=[(&#x27;columntransformer&#x27;,\n",
       "                 ColumnTransformer(remainder=&#x27;passthrough&#x27;,\n",
       "                                   transformers=[(&#x27;onehotencoder&#x27;,\n",
       "                                                  OneHotEncoder(categories=[array([&#x27;Audi A3 Cabriolet&#x27;, &#x27;Audi A4 1.8&#x27;, &#x27;Audi A4 2.0&#x27;, &#x27;Audi A6 2.0&#x27;,\n",
       "       &#x27;Audi A8&#x27;, &#x27;Audi Q3 2.0&#x27;, &#x27;Audi Q5 2.0&#x27;, &#x27;Audi Q7&#x27;, &#x27;BMW 3 Series&#x27;,\n",
       "       &#x27;BMW 5 Series&#x27;, &#x27;BMW 7 Series&#x27;, &#x27;BMW X1&#x27;, &#x27;BMW X1 sDrive20d&#x27;,\n",
       "       &#x27;BMW X1 xDrive20d&#x27;, &#x27;Chevrolet Beat&#x27;, &#x27;Chevrolet Beat...\n",
       "                                                                            array([&#x27;Audi&#x27;, &#x27;BMW&#x27;, &#x27;Chevrolet&#x27;, &#x27;Datsun&#x27;, &#x27;Fiat&#x27;, &#x27;Force&#x27;, &#x27;Ford&#x27;,\n",
       "       &#x27;Hindustan&#x27;, &#x27;Honda&#x27;, &#x27;Hyundai&#x27;, &#x27;Jaguar&#x27;, &#x27;Jeep&#x27;, &#x27;Land&#x27;,\n",
       "       &#x27;Mahindra&#x27;, &#x27;Maruti&#x27;, &#x27;Mercedes&#x27;, &#x27;Mini&#x27;, &#x27;Mitsubishi&#x27;, &#x27;Nissan&#x27;,\n",
       "       &#x27;Renault&#x27;, &#x27;Skoda&#x27;, &#x27;Tata&#x27;, &#x27;Toyota&#x27;, &#x27;Volkswagen&#x27;, &#x27;Volvo&#x27;],\n",
       "      dtype=object),\n",
       "                                                                            array([&#x27;Diesel&#x27;, &#x27;LPG&#x27;, &#x27;Petrol&#x27;], dtype=object)]),\n",
       "                                                  [&#x27;name&#x27;, &#x27;company&#x27;,\n",
       "                                                   &#x27;fuel_type&#x27;])])),\n",
       "                (&#x27;linearregression&#x27;, LinearRegression())])</pre><b>In a Jupyter environment, please rerun this cell to show the HTML representation or trust the notebook. <br />On GitHub, the HTML representation is unable to render, please try loading this page with nbviewer.org.</b></div><div class=\"sk-container\" hidden><div class=\"sk-item sk-dashed-wrapped\"><div class=\"sk-label-container\"><div class=\"sk-label sk-toggleable\"><input class=\"sk-toggleable__control sk-hidden--visually\" id=\"sk-estimator-id-2\" type=\"checkbox\" ><label for=\"sk-estimator-id-2\" class=\"sk-toggleable__label sk-toggleable__label-arrow\">Pipeline</label><div class=\"sk-toggleable__content\"><pre>Pipeline(steps=[(&#x27;columntransformer&#x27;,\n",
       "                 ColumnTransformer(remainder=&#x27;passthrough&#x27;,\n",
       "                                   transformers=[(&#x27;onehotencoder&#x27;,\n",
       "                                                  OneHotEncoder(categories=[array([&#x27;Audi A3 Cabriolet&#x27;, &#x27;Audi A4 1.8&#x27;, &#x27;Audi A4 2.0&#x27;, &#x27;Audi A6 2.0&#x27;,\n",
       "       &#x27;Audi A8&#x27;, &#x27;Audi Q3 2.0&#x27;, &#x27;Audi Q5 2.0&#x27;, &#x27;Audi Q7&#x27;, &#x27;BMW 3 Series&#x27;,\n",
       "       &#x27;BMW 5 Series&#x27;, &#x27;BMW 7 Series&#x27;, &#x27;BMW X1&#x27;, &#x27;BMW X1 sDrive20d&#x27;,\n",
       "       &#x27;BMW X1 xDrive20d&#x27;, &#x27;Chevrolet Beat&#x27;, &#x27;Chevrolet Beat...\n",
       "                                                                            array([&#x27;Audi&#x27;, &#x27;BMW&#x27;, &#x27;Chevrolet&#x27;, &#x27;Datsun&#x27;, &#x27;Fiat&#x27;, &#x27;Force&#x27;, &#x27;Ford&#x27;,\n",
       "       &#x27;Hindustan&#x27;, &#x27;Honda&#x27;, &#x27;Hyundai&#x27;, &#x27;Jaguar&#x27;, &#x27;Jeep&#x27;, &#x27;Land&#x27;,\n",
       "       &#x27;Mahindra&#x27;, &#x27;Maruti&#x27;, &#x27;Mercedes&#x27;, &#x27;Mini&#x27;, &#x27;Mitsubishi&#x27;, &#x27;Nissan&#x27;,\n",
       "       &#x27;Renault&#x27;, &#x27;Skoda&#x27;, &#x27;Tata&#x27;, &#x27;Toyota&#x27;, &#x27;Volkswagen&#x27;, &#x27;Volvo&#x27;],\n",
       "      dtype=object),\n",
       "                                                                            array([&#x27;Diesel&#x27;, &#x27;LPG&#x27;, &#x27;Petrol&#x27;], dtype=object)]),\n",
       "                                                  [&#x27;name&#x27;, &#x27;company&#x27;,\n",
       "                                                   &#x27;fuel_type&#x27;])])),\n",
       "                (&#x27;linearregression&#x27;, LinearRegression())])</pre></div></div></div><div class=\"sk-serial\"><div class=\"sk-item sk-dashed-wrapped\"><div class=\"sk-label-container\"><div class=\"sk-label sk-toggleable\"><input class=\"sk-toggleable__control sk-hidden--visually\" id=\"sk-estimator-id-3\" type=\"checkbox\" ><label for=\"sk-estimator-id-3\" class=\"sk-toggleable__label sk-toggleable__label-arrow\">columntransformer: ColumnTransformer</label><div class=\"sk-toggleable__content\"><pre>ColumnTransformer(remainder=&#x27;passthrough&#x27;,\n",
       "                  transformers=[(&#x27;onehotencoder&#x27;,\n",
       "                                 OneHotEncoder(categories=[array([&#x27;Audi A3 Cabriolet&#x27;, &#x27;Audi A4 1.8&#x27;, &#x27;Audi A4 2.0&#x27;, &#x27;Audi A6 2.0&#x27;,\n",
       "       &#x27;Audi A8&#x27;, &#x27;Audi Q3 2.0&#x27;, &#x27;Audi Q5 2.0&#x27;, &#x27;Audi Q7&#x27;, &#x27;BMW 3 Series&#x27;,\n",
       "       &#x27;BMW 5 Series&#x27;, &#x27;BMW 7 Series&#x27;, &#x27;BMW X1&#x27;, &#x27;BMW X1 sDrive20d&#x27;,\n",
       "       &#x27;BMW X1 xDrive20d&#x27;, &#x27;Chevrolet Beat&#x27;, &#x27;Chevrolet Beat Diesel&#x27;,\n",
       "       &#x27;Chevrolet Beat LS&#x27;, &#x27;Chevrolet B...\n",
       "       &#x27;Volkswagen Vento Konekt&#x27;, &#x27;Volvo S80 Summum&#x27;], dtype=object),\n",
       "                                                           array([&#x27;Audi&#x27;, &#x27;BMW&#x27;, &#x27;Chevrolet&#x27;, &#x27;Datsun&#x27;, &#x27;Fiat&#x27;, &#x27;Force&#x27;, &#x27;Ford&#x27;,\n",
       "       &#x27;Hindustan&#x27;, &#x27;Honda&#x27;, &#x27;Hyundai&#x27;, &#x27;Jaguar&#x27;, &#x27;Jeep&#x27;, &#x27;Land&#x27;,\n",
       "       &#x27;Mahindra&#x27;, &#x27;Maruti&#x27;, &#x27;Mercedes&#x27;, &#x27;Mini&#x27;, &#x27;Mitsubishi&#x27;, &#x27;Nissan&#x27;,\n",
       "       &#x27;Renault&#x27;, &#x27;Skoda&#x27;, &#x27;Tata&#x27;, &#x27;Toyota&#x27;, &#x27;Volkswagen&#x27;, &#x27;Volvo&#x27;],\n",
       "      dtype=object),\n",
       "                                                           array([&#x27;Diesel&#x27;, &#x27;LPG&#x27;, &#x27;Petrol&#x27;], dtype=object)]),\n",
       "                                 [&#x27;name&#x27;, &#x27;company&#x27;, &#x27;fuel_type&#x27;])])</pre></div></div></div><div class=\"sk-parallel\"><div class=\"sk-parallel-item\"><div class=\"sk-item\"><div class=\"sk-label-container\"><div class=\"sk-label sk-toggleable\"><input class=\"sk-toggleable__control sk-hidden--visually\" id=\"sk-estimator-id-4\" type=\"checkbox\" ><label for=\"sk-estimator-id-4\" class=\"sk-toggleable__label sk-toggleable__label-arrow\">onehotencoder</label><div class=\"sk-toggleable__content\"><pre>[&#x27;name&#x27;, &#x27;company&#x27;, &#x27;fuel_type&#x27;]</pre></div></div></div><div class=\"sk-serial\"><div class=\"sk-item\"><div class=\"sk-estimator sk-toggleable\"><input class=\"sk-toggleable__control sk-hidden--visually\" id=\"sk-estimator-id-5\" type=\"checkbox\" ><label for=\"sk-estimator-id-5\" class=\"sk-toggleable__label sk-toggleable__label-arrow\">OneHotEncoder</label><div class=\"sk-toggleable__content\"><pre>OneHotEncoder(categories=[array([&#x27;Audi A3 Cabriolet&#x27;, &#x27;Audi A4 1.8&#x27;, &#x27;Audi A4 2.0&#x27;, &#x27;Audi A6 2.0&#x27;,\n",
       "       &#x27;Audi A8&#x27;, &#x27;Audi Q3 2.0&#x27;, &#x27;Audi Q5 2.0&#x27;, &#x27;Audi Q7&#x27;, &#x27;BMW 3 Series&#x27;,\n",
       "       &#x27;BMW 5 Series&#x27;, &#x27;BMW 7 Series&#x27;, &#x27;BMW X1&#x27;, &#x27;BMW X1 sDrive20d&#x27;,\n",
       "       &#x27;BMW X1 xDrive20d&#x27;, &#x27;Chevrolet Beat&#x27;, &#x27;Chevrolet Beat Diesel&#x27;,\n",
       "       &#x27;Chevrolet Beat LS&#x27;, &#x27;Chevrolet Beat LT&#x27;, &#x27;Chevrolet Beat PS&#x27;,\n",
       "       &#x27;Chevrolet Cruze LTZ&#x27;, &#x27;Chevrolet Enjoy&#x27;, &#x27;Chevrolet E...\n",
       "       &#x27;Volkswagen Vento Comfortline&#x27;, &#x27;Volkswagen Vento Highline&#x27;,\n",
       "       &#x27;Volkswagen Vento Konekt&#x27;, &#x27;Volvo S80 Summum&#x27;], dtype=object),\n",
       "                          array([&#x27;Audi&#x27;, &#x27;BMW&#x27;, &#x27;Chevrolet&#x27;, &#x27;Datsun&#x27;, &#x27;Fiat&#x27;, &#x27;Force&#x27;, &#x27;Ford&#x27;,\n",
       "       &#x27;Hindustan&#x27;, &#x27;Honda&#x27;, &#x27;Hyundai&#x27;, &#x27;Jaguar&#x27;, &#x27;Jeep&#x27;, &#x27;Land&#x27;,\n",
       "       &#x27;Mahindra&#x27;, &#x27;Maruti&#x27;, &#x27;Mercedes&#x27;, &#x27;Mini&#x27;, &#x27;Mitsubishi&#x27;, &#x27;Nissan&#x27;,\n",
       "       &#x27;Renault&#x27;, &#x27;Skoda&#x27;, &#x27;Tata&#x27;, &#x27;Toyota&#x27;, &#x27;Volkswagen&#x27;, &#x27;Volvo&#x27;],\n",
       "      dtype=object),\n",
       "                          array([&#x27;Diesel&#x27;, &#x27;LPG&#x27;, &#x27;Petrol&#x27;], dtype=object)])</pre></div></div></div></div></div></div><div class=\"sk-parallel-item\"><div class=\"sk-item\"><div class=\"sk-label-container\"><div class=\"sk-label sk-toggleable\"><input class=\"sk-toggleable__control sk-hidden--visually\" id=\"sk-estimator-id-6\" type=\"checkbox\" ><label for=\"sk-estimator-id-6\" class=\"sk-toggleable__label sk-toggleable__label-arrow\">remainder</label><div class=\"sk-toggleable__content\"><pre>[&#x27;year&#x27;, &#x27;kms_driven&#x27;]</pre></div></div></div><div class=\"sk-serial\"><div class=\"sk-item\"><div class=\"sk-estimator sk-toggleable\"><input class=\"sk-toggleable__control sk-hidden--visually\" id=\"sk-estimator-id-7\" type=\"checkbox\" ><label for=\"sk-estimator-id-7\" class=\"sk-toggleable__label sk-toggleable__label-arrow\">passthrough</label><div class=\"sk-toggleable__content\"><pre>passthrough</pre></div></div></div></div></div></div></div></div><div class=\"sk-item\"><div class=\"sk-estimator sk-toggleable\"><input class=\"sk-toggleable__control sk-hidden--visually\" id=\"sk-estimator-id-8\" type=\"checkbox\" ><label for=\"sk-estimator-id-8\" class=\"sk-toggleable__label sk-toggleable__label-arrow\">LinearRegression</label><div class=\"sk-toggleable__content\"><pre>LinearRegression()</pre></div></div></div></div></div></div></div>"
      ],
      "text/plain": [
       "Pipeline(steps=[('columntransformer',\n",
       "                 ColumnTransformer(remainder='passthrough',\n",
       "                                   transformers=[('onehotencoder',\n",
       "                                                  OneHotEncoder(categories=[array(['Audi A3 Cabriolet', 'Audi A4 1.8', 'Audi A4 2.0', 'Audi A6 2.0',\n",
       "       'Audi A8', 'Audi Q3 2.0', 'Audi Q5 2.0', 'Audi Q7', 'BMW 3 Series',\n",
       "       'BMW 5 Series', 'BMW 7 Series', 'BMW X1', 'BMW X1 sDrive20d',\n",
       "       'BMW X1 xDrive20d', 'Chevrolet Beat', 'Chevrolet Beat...\n",
       "                                                                            array(['Audi', 'BMW', 'Chevrolet', 'Datsun', 'Fiat', 'Force', 'Ford',\n",
       "       'Hindustan', 'Honda', 'Hyundai', 'Jaguar', 'Jeep', 'Land',\n",
       "       'Mahindra', 'Maruti', 'Mercedes', 'Mini', 'Mitsubishi', 'Nissan',\n",
       "       'Renault', 'Skoda', 'Tata', 'Toyota', 'Volkswagen', 'Volvo'],\n",
       "      dtype=object),\n",
       "                                                                            array(['Diesel', 'LPG', 'Petrol'], dtype=object)]),\n",
       "                                                  ['name', 'company',\n",
       "                                                   'fuel_type'])])),\n",
       "                ('linearregression', LinearRegression())])"
      ]
     },
     "execution_count": 31,
     "metadata": {},
     "output_type": "execute_result"
    }
   ],
   "source": [
    "pipe.fit(X_train,y_train)"
   ]
  },
  {
   "cell_type": "code",
   "execution_count": null,
   "id": "f3675cb2",
   "metadata": {},
   "outputs": [],
   "source": []
  },
  {
   "cell_type": "code",
   "execution_count": 32,
   "id": "9d0fd7ed",
   "metadata": {
    "scrolled": true
   },
   "outputs": [
    {
     "data": {
      "text/plain": [
       "array([1500331.88435172,  318130.65387568,  313071.4561623 ,\n",
       "        551371.09360914,  888757.01519255, -135058.24235465,\n",
       "        171389.25664476,  238099.07272324,  184979.54926877,\n",
       "        659546.7224573 ,  286810.01918475,  454964.20691763,\n",
       "        -67466.82616416,  469129.4793689 ,  339686.68730401,\n",
       "         43409.88969094,  233161.61743695,  314476.00139581,\n",
       "        501131.10027435,   65143.97269978,  313189.10760695,\n",
       "        202785.74006601,  252028.90349717, 1758997.05668748,\n",
       "        140921.94254355,  159956.38853206,  379757.363512  ,\n",
       "        367678.57581729,  600432.75360512,  368403.86234702,\n",
       "        335709.89447862,  548092.62541224,  380703.21764353,\n",
       "        316195.7867206 , 1144311.01236836,  623792.08379647,\n",
       "        179002.33490033,  201588.63616145,  624888.64401963,\n",
       "       1562374.21111321,  365766.92439987,  628877.62602979,\n",
       "        410004.74264785,  205913.49790599,  469131.36364906,\n",
       "        347650.14447811,  514550.10180415, 1964989.81428844,\n",
       "        448780.21459644,  505554.58454236,  328729.5531816 ,\n",
       "       1152825.60026884,  380926.99171754,  313189.10760695,\n",
       "        168469.07571582,   48738.20129854,   92485.34863766,\n",
       "        278117.92649697,  600439.1866514 ,  464049.59389027,\n",
       "        511673.99346536,  378322.92650492,  335629.01879585,\n",
       "        717832.28069714,  750677.48207916,  962736.84465732,\n",
       "        135350.59386275,  432134.80234739,  447327.6365195 ,\n",
       "        386063.05772219,  295790.30469042,  134663.51024301,\n",
       "        261684.95778308,  739730.91108774,  258502.67296394,\n",
       "        715472.80130402,  378459.65223161,  553455.33173926,\n",
       "        147189.04189271,  302156.82583553,  154146.23559391,\n",
       "       1015256.34679835,  312771.48845448,  157322.88862038,\n",
       "        212005.64049616,  339097.15916026,  338304.88289915,\n",
       "        222678.04755635,  591940.01277849,  196747.6662431 ,\n",
       "        353095.45694246,  219716.16365822,  367706.89635062,\n",
       "        362641.14785122,  173011.92540065,  -40734.99496268,\n",
       "        273510.04247702,  193108.65396029,  425293.78103562,\n",
       "        349068.92567541,  131845.91017617, 1923119.89016231,\n",
       "        333564.9623454 ,  -95211.88068897,  214211.37315398,\n",
       "        372431.21157192,  429722.18911136,  679750.76440488,\n",
       "        141524.10765316,  162148.2523288 ,  410394.34592081,\n",
       "        381705.07142948,  301320.97932843,  618998.86983124,\n",
       "        268908.58047673,  504982.87650346,  135494.4436057 ,\n",
       "        228163.68834416,  111715.09556763,  239875.85276457,\n",
       "       2244449.83783141,  287895.48277538,   37005.66444705,\n",
       "        225356.91545044,  248805.6150327 ,  279802.30420904,\n",
       "         98598.15851052,  356064.51647867,  181511.47473656,\n",
       "        106001.23716881,  437273.86742765,  186454.23973083,\n",
       "         55449.01917584,  273838.20762315,   92357.085595  ,\n",
       "        541255.07674322,  468827.65492726,  380926.99171754,\n",
       "        446845.28977384,   -7073.1458782 ,  584958.51842178,\n",
       "        -17124.614922  ,  376422.68970434,  625899.65230923,\n",
       "        111080.92061583,  661401.80592377,  455390.33611438,\n",
       "        468236.6890033 ,  130183.81719173,  242082.84573814,\n",
       "        964672.29615918,  272048.2324506 ,  284738.90541766,\n",
       "        461397.33673275, 1447961.18128267,  261684.95778308,\n",
       "        624105.64123861,  428592.82142806,  508183.49858528,\n",
       "        276397.6248147 ,   85193.60691978,  266071.01808215,\n",
       "        411408.14262266,  348409.41820674,  517072.37948822,\n",
       "        246817.01025353,  356782.38554923,  601378.60773665,\n",
       "        459651.36030451,  572183.30745981,  580684.74506476,\n",
       "        445466.41255338,  256837.92252078,  552730.03073512,\n",
       "       1586488.50199067,  238955.08789816, 1463240.37721671,\n",
       "        256915.09095487,  143020.6827767 ,  159956.38853206,\n",
       "        344177.27863294,  619721.51729546,  584782.73744147,\n",
       "       1059760.23611671,  656709.16006272,  559741.96883302,\n",
       "        193169.65336705,   32618.59532556,  541582.68722025,\n",
       "        420634.1980489 ,  377760.67607719,  129931.22371692,\n",
       "        889038.24300268,  260269.3571728 , 2244607.48018666,\n",
       "        356430.29149582,  376422.68970434, -109293.28996931,\n",
       "        538304.20435558, 2244607.48018666,  312771.48845448,\n",
       "        112671.72075144, 1564136.65264495,   98791.04284785,\n",
       "        179843.04096095, 1075833.04275467,  234533.68470166,\n",
       "        443735.2010259 ,   85386.61122726, 1229275.82647117,\n",
       "        187645.51706269,  270213.24719009,  -40222.19014633,\n",
       "         69557.9586469 ,  715875.78497748,  600439.1866514 ,\n",
       "        420690.46684425,  321206.7977952 ,  505857.22616558,\n",
       "       -102669.29518017, 1976447.11652495,  715472.80130402,\n",
       "        434569.51542246,  513233.59396537, 1699056.22555762,\n",
       "        178598.29376552,  279726.28773044,  437058.83277337,\n",
       "        460761.03359579,  290999.28289352, 2244607.48018666,\n",
       "         76594.16413657,  411528.16721909,  626960.43466247,\n",
       "        399772.58750982,  537604.85249383,   94383.12585433,\n",
       "        549089.15296244,  305906.96251042,  201588.63616145,\n",
       "        448969.53382155,  288906.05752666,  355759.29501868,\n",
       "        426070.54374398,  455574.12109716,  714842.81272483,\n",
       "         33389.60799311,  441512.80861061,  387895.51576471,\n",
       "        245668.49448922,  280198.36182672,  516537.24306648,\n",
       "        444786.70230494,  299662.56719805,  559333.06976663,\n",
       "        603451.66176804,  157194.15430765,  319142.21511134,\n",
       "       1560983.80553986,  -45933.89403824,   92329.03439233,\n",
       "        273510.04247702,  617054.4493857 ,  433896.50785181,\n",
       "        261684.95778308,  291406.73328532,  599223.86800081,\n",
       "         52778.62051106,  195480.03339071,  223602.87700327,\n",
       "        528856.78661283,  341043.9540429 ,   -4998.69644571,\n",
       "        221265.3098245 ,  376994.02208735,  180565.56332164,\n",
       "        413157.58975294,  386063.05772219,  405354.77273816,\n",
       "        166521.44145858,  678107.76686328,  314949.78143106,\n",
       "        612154.68424324,  279726.28773044,  394725.49647196,\n",
       "        717832.28069714,  107769.83859403,  224956.11392041,\n",
       "        141524.10765316,  384376.45634036,  426848.81525835,\n",
       "        318133.30403771,  338687.28048778,  406284.89146026,\n",
       "        544585.22954042,  429359.84055077,   70206.93234143,\n",
       "        562178.51427898,  715472.80130402,  378420.2416428 ,\n",
       "        717832.28069714,   76710.14665745,  231821.46969697,\n",
       "        335772.50784065,  424509.52701287,  373024.27229733,\n",
       "        371492.30388897,  467525.05691821,  577785.85299644,\n",
       "        455862.53295345,  510451.40056753,  187084.80915184,\n",
       "        218960.71929276,  199120.08814457,  229524.21223205,\n",
       "        390374.59944345,  109993.95248707,  499595.70351374,\n",
       "        480048.52019488,  503757.46169246,  502905.64206713,\n",
       "        317793.9177089 ,   38766.85516693,  191992.54596193,\n",
       "        197066.00349668,  305155.13856143,  370518.05578355,\n",
       "        448794.67657663,  687501.43678693,  209496.55794331,\n",
       "        232151.36780803,  338687.28048778,  116752.74997232,\n",
       "        576761.11594854,  282216.62773358,  623792.08379647,\n",
       "        512654.29737447, -107243.56352054,  167224.67593206,\n",
       "        515037.32311635,  381889.7528872 ,  344498.15034252,\n",
       "        183168.03623417,  305155.13856143,  292773.29940347,\n",
       "        479736.38833148,  632188.11549014,   34413.33744814,\n",
       "        244344.29870508,  333345.6464408 ,  384032.08023579,\n",
       "        221763.67496631,  254746.75458881,  380456.3737364 ,\n",
       "         98475.75813734,  482044.50252512,  604278.99457594,\n",
       "        342567.55794996,  197104.05837797,   46531.20832498,\n",
       "        314619.36316806,  493405.46470776,  373940.03818965,\n",
       "         85193.60691978,  298052.51697033,  308835.66062212,\n",
       "        396902.349694  ,  529653.28545731,  462482.83850564,\n",
       "        566815.09406674,  694524.81853926,  100826.48480812,\n",
       "         69870.62294631,  180498.52855856,  317155.92143513,\n",
       "        452452.61687602,  552730.03073512,  317923.1085268 ,\n",
       "        263128.30761666,  412527.02033192,  305638.46664963,\n",
       "       1883596.25589578,  326180.6101338 ,  199435.53839093,\n",
       "        455390.33611438,  223973.97041386,  205913.49790599,\n",
       "        271609.91797204,  411408.14262266,  203864.85804891,\n",
       "        558071.9309246 ,  597396.56199011,  226539.75408166,\n",
       "        137501.07263759,  568103.21864836,  272691.99700284,\n",
       "        274025.94470867,  372939.15392926,  394553.96095305,\n",
       "        577785.85299644,  141524.10765316,   31267.39130649,\n",
       "        142112.57869055,  102644.80668026,  272138.63783438,\n",
       "        226458.44821402,  466273.32404358,  593137.69612055,\n",
       "         11026.11289181,  194753.43257794,  397212.88238792,\n",
       "       1132687.88544706,  338687.28048778,  577785.85299644,\n",
       "        344318.63033316,  302179.89768595,  867199.21753056,\n",
       "        165631.51332123,  131392.53953979,   90575.80915248,\n",
       "        232776.11011004,  324010.57769633,  335709.89447862,\n",
       "        643367.87058364,  387221.23461218,  136534.19382145,\n",
       "        135350.59386275,  108324.50263537,  124182.0797447 ,\n",
       "        259126.22925539,  274025.94470867,  248536.4329479 ,\n",
       "        553045.31544563,  515795.60751113,  472295.24852809,\n",
       "        783800.49469465,  590803.71780502,   60185.19079693,\n",
       "       1126417.10706338,  225356.91545044,  303252.30946129,\n",
       "        508550.07739636,  715472.80130402,  501131.10027435,\n",
       "        221266.6932118 ,   62837.61939505, 1015246.40971288,\n",
       "        398661.36241986,  356962.8436636 ,  299662.56719805,\n",
       "        271508.06841335,  252570.532078  ,  295066.88420693,\n",
       "         32503.6476213 ,  440736.44553385,  591926.49946766,\n",
       "        244238.93754522,  530234.28717458,  281431.022499  ,\n",
       "          6381.94522329,  121166.73591945,   61106.16240123,\n",
       "        383396.70623078,  578495.18185634,  136374.05281841,\n",
       "        399433.11145555,  494598.13598907,  172093.99691719,\n",
       "        236680.48266438, 1121437.53278846,  199870.86209524,\n",
       "        339097.15916026,  441512.80861061, 2244449.83783141,\n",
       "        106039.97077847,  394291.04554217,  159413.07807463,\n",
       "        466775.17134688,  287895.48277538,  286798.31606279,\n",
       "        689164.9784606 ,  328247.4018667 ,   -7252.1126405 ,\n",
       "        374530.22277234,  504352.30708244,  349999.89256664,\n",
       "        303914.81656324, 2244607.48018666,  154290.28241046,\n",
       "        258847.3953885 ,  410635.31206886,  408957.40068671,\n",
       "        261772.28429822,  -46115.85972594,  546533.41760667,\n",
       "        317816.04382263,  223602.87700327,  259477.96480951,\n",
       "        486497.91456939,  392549.14902133,  765169.6425677 ,\n",
       "        259389.38184135,  620675.31509662,  576799.68673215,\n",
       "        477989.58232892,  195480.03339071,  700724.000861  ,\n",
       "        407816.27075596,  319331.38593765,  193129.6786449 ,\n",
       "       1755885.25116301,  608188.54290994,  323027.76302872,\n",
       "        -46410.11975185,  197468.72065566,  450963.49110153,\n",
       "        679750.76440488,  433896.50785181, 1015256.34679835,\n",
       "        317793.9177089 ,  258984.01305914,  132826.10593234,\n",
       "        237227.15702115,  126389.07271826,   33206.12947749,\n",
       "        386063.05772219,  234046.99145783,  438472.98944929,\n",
       "        176553.99564569,  286782.88990379,  394725.49647196,\n",
       "        479597.93967784,  438709.44588125,   28085.06817983,\n",
       "        370049.72103266,  378171.26815346,  530234.28717458,\n",
       "        362641.14785122,  378867.50903489,  577785.85299644,\n",
       "        595274.51999217,  715204.99243032,  355759.29501868,\n",
       "        510554.08869037,  515811.24064618,  305999.18496785,\n",
       "        557774.58610327,  316346.68497425,  101331.72480544,\n",
       "        342934.20251887,  327179.99972475,  126463.09190132,\n",
       "        399433.11145555,  530822.92767316, -147265.85558965,\n",
       "        -38528.00198912,  344024.53584311,  526547.04499797,\n",
       "        -18456.57866645,  299446.67509791,  346326.78313232,\n",
       "       1168396.48360714,  731843.34443512,  460014.03741284,\n",
       "        408637.09673313,  234344.51387535,  445469.56655854,\n",
       "        340367.51142497,  172787.38759616,  375647.44108877,\n",
       "        577785.85299644,  560096.84024533,  211115.88676783,\n",
       "        193437.84818627,  561225.48688959,  409529.50649747,\n",
       "         98160.47342683,  103098.25121444,  528114.54883235,\n",
       "        313189.10760695,  313267.88288834,  251280.56233628,\n",
       "        197405.66371355,  -41835.19280162,  548078.45224468,\n",
       "        401070.71798686,  361814.1295042 ,  576250.65781861,\n",
       "        456951.16670391,  367706.89635062,  332726.06376172,\n",
       "        247497.14581016,  300165.81443901,  284738.90541766,\n",
       "        392549.14902133,  548709.02166569,   99736.89697938,\n",
       "        428926.06556156,  380456.3737364 ,  717195.86593972,\n",
       "       1055493.8480924 ,  383869.66261093,  553045.31544563,\n",
       "        118092.97184376,   51998.55937598,  195501.74082646,\n",
       "        109192.81788356,  512092.1637124 ,  260919.20677834,\n",
       "        301925.08120378,  195534.1917243 ,  401070.71798686,\n",
       "        410085.80531191,  624105.64123861,  645369.58511747,\n",
       "        223135.21038659,  394725.49647196,  383396.70623078,\n",
       "        390682.15055054,  143966.53690823,  356430.29149582,\n",
       "       2244607.48018666,  301652.70176525,  219800.91376372,\n",
       "        254961.96847934,  227407.48374984,  394238.67624254,\n",
       "        344167.73207951,  377086.21201135, 2244607.48018666,\n",
       "        -65800.33743459,  336462.48445121,  298396.48115984,\n",
       "        365766.92439987,  491792.15520228,  199091.60997482,\n",
       "        246817.01025353,  248797.35910137,  754094.32555831,\n",
       "        111693.87210103,  210429.21694361,  306521.98185486,\n",
       "        361814.1295042 ,  244344.29870508,  361537.46022599,\n",
       "        380703.21764353,  338687.28048778,  369418.07941481,\n",
       "        245368.63842051,  367678.57581729,  313267.88288834,\n",
       "        227407.31821398])"
      ]
     },
     "execution_count": 32,
     "metadata": {},
     "output_type": "execute_result"
    }
   ],
   "source": [
    "# pipe.predict(X_test)\n",
    "pipe.predict(X_train)"
   ]
  },
  {
   "cell_type": "code",
   "execution_count": 44,
   "id": "182233ce",
   "metadata": {},
   "outputs": [],
   "source": [
    "y_pred=pipe.predict(X_train)"
   ]
  },
  {
   "cell_type": "code",
   "execution_count": 45,
   "id": "004ea549",
   "metadata": {},
   "outputs": [
    {
     "data": {
      "text/plain": [
       "array([ 3.69855867e+05,  6.64692044e+05,  1.92087271e+05,  2.90487016e+05,\n",
       "        3.38879107e+05,  2.37601870e+05,  2.84285785e+05,  3.39872513e+05,\n",
       "        3.07630562e+05,  2.13313629e+05,  1.23661382e+05,  4.03915831e+05,\n",
       "        3.45424347e+05,  2.05912739e+05, -1.34574897e+03,  5.96774866e+05,\n",
       "        4.37117224e+05,  2.15240971e+05,  3.06820122e+04,  2.23351571e+05,\n",
       "        3.62750462e+05,  1.32352756e+05,  4.06446927e+05,  2.57478680e+05,\n",
       "        5.28606888e+05,  2.41963224e+05,  2.93219049e+05,  6.17066749e+05,\n",
       "        2.99250300e+05,  3.69137710e+05,  3.53544420e+05,  2.03599294e+05,\n",
       "        2.56711747e+05,  1.96431574e+06,  4.10204115e+05,  2.72286279e+05,\n",
       "        3.93617060e+05,  2.72954009e+05,  1.63981955e+06,  9.68396430e+04,\n",
       "        1.09807501e+05,  2.84141398e+05,  3.33699122e+05,  1.60926201e+05,\n",
       "        2.66820106e+05,  2.53275814e+05,  1.36375566e+06,  1.21492624e+06,\n",
       "        3.70940952e+05,  2.15130756e+05,  2.96341360e+05,  2.37494363e+05,\n",
       "        7.74183766e+04,  1.68751986e+05,  1.04428100e+06,  4.53607141e+05,\n",
       "        1.58766960e+05,  1.87469455e+06, -1.53741385e+05,  1.41039257e+05,\n",
       "        3.59414026e+05,  5.73652819e+05,  1.05313089e+06,  4.44924470e+05,\n",
       "        1.38450120e+05,  3.34190428e+05,  2.79607318e+05,  3.58308674e+05,\n",
       "        6.19507829e+05,  3.31903107e+05,  3.25744437e+05,  2.82410212e+05,\n",
       "        9.03904970e+05,  4.84424211e+05,  7.43685691e+05,  6.67234984e+05,\n",
       "        3.29823322e+05,  7.66563576e+05,  5.95903305e+05,  5.46291027e+05,\n",
       "        5.33792701e+05,  5.16108740e+05,  5.29931522e+05,  5.57183518e+05,\n",
       "        2.82949143e+05,  7.18545929e+05,  3.34479712e+05,  2.47524611e+05,\n",
       "       -1.74534096e+04,  6.64864405e+04,  3.73101966e+05,  2.05717318e+05,\n",
       "        2.77131066e+05, -4.66736956e+04,  2.51437668e+05,  2.23439557e+05,\n",
       "        6.21514247e+04,  4.03252122e+04,  2.19494927e+05,  2.49063093e+05,\n",
       "        3.42098190e+05,  3.08689463e+05,  5.01320368e+05,  2.67890494e+05,\n",
       "        4.71603276e+05,  6.08526367e+05,  3.45424347e+05,  1.93627840e+05,\n",
       "        3.96964372e+05,  2.12117757e+05,  1.99133833e+05,  1.07035187e+06,\n",
       "        4.33109655e+05,  2.75809879e+05,  3.14151561e+05,  2.81833602e+05,\n",
       "        2.10827282e+05,  2.43827188e+05,  2.76695273e+05,  7.75815183e+05,\n",
       "        3.44491492e+05,  4.61602066e+05,  3.89756478e+05,  2.15258081e+05,\n",
       "        4.41377827e+05,  1.87469455e+06,  5.03658316e+05,  3.80753227e+05,\n",
       "        2.41570052e+05,  2.27445574e+05,  6.08526367e+05,  6.40749028e+05,\n",
       "        4.37117224e+05,  2.52167358e+05,  1.24761451e+05,  2.97208550e+05,\n",
       "        3.67023140e+05,  1.90401430e+05,  2.89020797e+05,  2.35530771e+05,\n",
       "        4.82100611e+04,  4.58946545e+05,  1.23661382e+05,  3.87371319e+05,\n",
       "        1.64175964e+06,  3.82697273e+05,  4.13069946e+05,  6.96212518e+05,\n",
       "        1.77945633e+06,  1.23195356e+06,  4.18557152e+05,  7.77718204e+04,\n",
       "        6.88424037e+05,  6.14524218e+05,  6.78711683e+05,  3.87522411e+05,\n",
       "        2.80327287e+05, -1.07647864e+05, -9.66496444e+04,  5.96105993e+05,\n",
       "        1.56335108e+05,  3.44970359e+05,  7.66563576e+05,  4.09157443e+05,\n",
       "        1.06747285e+05,  4.00101910e+05,  1.63981955e+06,  6.08048052e+05,\n",
       "        3.84792929e+05,  1.44319922e+05,  2.22020703e+05,  3.06342339e+05,\n",
       "        1.81942740e+05,  2.41963224e+05,  6.37242564e+04,  2.88143422e+05,\n",
       "        1.93846987e+05,  5.30794998e+05,  6.31719954e+04,  1.30377249e+05,\n",
       "        6.64692044e+05,  5.00140413e+05,  2.61071554e+05,  3.04378123e+05,\n",
       "        4.84016216e+05,  1.51034791e+05,  4.23559746e+05,  1.95725840e+05,\n",
       "        1.83561570e+06,  3.42928880e+05,  4.38446425e+04,  2.75809879e+05,\n",
       "        3.34864913e+05,  5.25387332e+05,  1.15966504e+05,  3.89456490e+05,\n",
       "        1.50872533e+06,  2.02346143e+05,  4.71167746e+05,  6.06006674e+05,\n",
       "        3.28412276e+05,  3.89456490e+05,  4.89302619e+05,  3.48729246e+05,\n",
       "        5.45482448e+05,  1.51931997e+05,  3.32605325e+05,  3.05496432e+05,\n",
       "        8.68202832e+04,  3.32783298e+05,  5.38443587e+05,  3.77949276e+05,\n",
       "        2.35414728e+05,  1.13422745e+05,  1.65764312e+05,  3.67304145e+05,\n",
       "        3.33465927e+05,  2.09786097e+05,  1.21769298e+06,  3.18464339e+05,\n",
       "        3.51584899e+05,  2.20523322e+05,  1.87469455e+06,  4.13680743e+05,\n",
       "        5.01973919e+05,  4.90780731e+05,  3.41189186e+05,  3.45469090e+05,\n",
       "       -9.32644064e+04,  4.32789734e+05,  2.01642186e+05,  2.91849776e+05,\n",
       "        4.29270303e+05,  1.80609576e+05,  6.08212386e+05,  3.91932545e+05,\n",
       "        7.92284592e+05,  5.66863959e+05, -6.56042585e+04,  6.73424498e+04,\n",
       "        2.10788964e+05,  3.64616665e+04,  2.83700223e+05,  4.96226207e+05,\n",
       "        1.47943925e+05,  4.04637348e+05,  1.00534688e+05, -2.08071888e+04,\n",
       "        6.25962956e+05,  3.20559772e+05,  1.52744824e+05,  1.63907558e+05,\n",
       "        1.96201863e+05,  1.40849589e+05,  3.71739733e+05,  3.95197569e+05,\n",
       "        2.61101032e+05,  1.68975058e+05, -4.56499076e+02,  2.02803991e+05,\n",
       "        1.31922793e+05,  3.67870156e+05,  3.92986544e+05,  4.45878267e+05,\n",
       "        7.66563576e+05,  3.40789904e+05,  5.05419558e+05,  1.51403261e+05,\n",
       "        4.96682586e+05,  5.30197989e+05,  3.12903882e+04,  2.14925218e+05,\n",
       "        2.33209607e+05,  3.13905694e+05,  7.74183766e+04,  2.30811544e+05,\n",
       "        4.45943672e+05,  1.30753856e+05,  2.84054050e+05,  5.38883516e+05,\n",
       "        1.77147641e+05,  4.76965581e+05,  6.08526367e+05,  2.73745631e+05,\n",
       "        5.43848252e+05,  7.18174745e+05,  1.61342457e+05,  4.31421162e+05,\n",
       "        4.97999152e+05,  4.46883163e+05,  1.68751986e+05,  2.27122254e+05,\n",
       "        3.06049891e+05,  5.92339286e+05,  5.92625708e+05,  1.56693934e+05,\n",
       "        8.87387846e+05,  4.33899038e+05,  2.63616461e+04,  4.63925642e+05,\n",
       "        3.30780054e+05, -2.18334743e+04,  2.92912733e+05,  3.25744437e+05,\n",
       "        6.61219501e+05,  6.39583869e+04,  4.97616914e+04,  1.62307039e+06,\n",
       "        1.99753736e+05,  6.22681143e+05, -9.97291460e+04,  1.29599129e+05,\n",
       "        6.54839716e+04,  3.87551649e+05,  3.26212632e+05,  4.36470791e+05,\n",
       "        5.81940708e+05,  6.38697016e+05,  3.70533941e+05,  3.08689463e+05,\n",
       "        2.55362251e+05,  2.19614841e+05,  7.59726729e+05,  2.10827282e+05,\n",
       "        7.99530187e+05,  5.10350918e+05,  2.38883722e+05,  1.99701530e+05,\n",
       "        1.63907558e+05,  3.74980902e+05,  2.76695273e+05,  6.02320546e+04,\n",
       "        3.27103558e+05,  2.34821946e+05,  3.01440923e+05,  2.57037831e+05,\n",
       "        6.24660822e+05,  3.31504536e+05,  3.23301265e+05,  1.82724745e+05,\n",
       "        4.61012843e+05,  5.29892846e+05,  2.59176835e+05,  3.71299804e+05,\n",
       "        2.32335226e+05,  1.50170674e+05,  1.21604083e+06,  1.53455253e+05,\n",
       "        1.76306102e+05,  6.06989518e+04,  3.96352651e+05,  5.01251806e+05,\n",
       "        2.91691452e+05,  3.45849183e+05,  9.68685112e+04,  7.30107487e+04,\n",
       "        2.52446406e+05,  2.92912733e+05,  2.09604138e+05,  2.25802468e+05,\n",
       "        5.41072605e+05,  4.22150820e+05,  3.03306830e+05,  3.92986544e+05,\n",
       "       -1.15027651e+05,  1.23661382e+05,  3.81168089e+04,  4.18886910e+05,\n",
       "        6.08526367e+05,  3.49510098e+05,  4.23559746e+05,  2.90415037e+05,\n",
       "        4.16850507e+05,  5.53656093e+04,  2.54608643e+05,  2.92301681e+05,\n",
       "        1.68041392e+05,  4.70229704e+05,  5.30772703e+05,  3.41601683e+05,\n",
       "        5.54323367e+05,  3.25261510e+05,  1.53423738e+05,  7.47490086e+05,\n",
       "        2.14052259e+05,  3.04670609e+05,  5.35552416e+05,  4.87271509e+05,\n",
       "        1.29485257e+05,  4.20743639e+05,  1.09195656e+06,  5.41072605e+05,\n",
       "        2.46461824e+05,  5.73652819e+05,  2.87252618e+05,  2.17767140e+05,\n",
       "        3.55763994e+04,  2.14977014e+05,  9.48758282e+05,  6.17666550e+05,\n",
       "        3.37341177e+05,  5.58894008e+05,  1.90018960e+04,  6.29947380e+05,\n",
       "        3.92986544e+05,  2.63740604e+05,  3.18105827e+05,  4.64387730e+05,\n",
       "        6.35889939e+05, -4.80985070e+04,  4.37997082e+05,  3.27449428e+05,\n",
       "        2.75809879e+05,  7.89015648e+04,  5.91747492e+05,  1.52875357e+05,\n",
       "        4.88906142e+05,  2.68139892e+05,  3.13524037e+05, -1.67123752e+05,\n",
       "       -1.70091292e+05,  3.72789119e+05,  3.05776874e+05,  3.72734128e+05,\n",
       "        2.33496304e+05,  6.37242564e+04,  2.44728898e+04,  4.13680743e+05,\n",
       "        5.93007871e+05,  1.70721220e+05,  4.35175483e+05,  1.63096088e+05,\n",
       "        4.38987454e+05,  1.14318383e+06,  1.73851157e+05,  1.92087271e+05,\n",
       "        3.18464339e+05,  2.11671803e+05,  4.32579251e+05,  2.27005645e+05,\n",
       "        4.21180855e+05,  2.72662375e+05,  1.49265941e+06,  6.27300395e+05,\n",
       "        6.28224841e+05,  2.61071554e+05,  1.30377249e+05,  2.88428957e+05,\n",
       "        7.52039721e+05,  2.94341993e+05,  7.46530360e+04,  6.45062753e+05,\n",
       "        1.20278211e+06,  8.33008528e+04,  7.36617346e+05,  6.65640070e+05,\n",
       "        5.97777919e+05,  2.72132912e+05, -2.84489572e+04,  1.63907558e+05,\n",
       "       -1.93828296e+04,  1.96314213e+06,  1.64291027e+06,  4.64554287e+05,\n",
       "        7.81461946e+05,  4.73792635e+05,  2.72132912e+05,  3.57931141e+05,\n",
       "        2.19745458e+05,  1.36375566e+06,  5.97777919e+05,  3.20015029e+05,\n",
       "        5.46355846e+05,  5.45484464e+05,  4.10259818e+05,  5.99457285e+05,\n",
       "        1.85282283e+05,  1.65442941e+06,  5.39522774e+05,  6.08526367e+05,\n",
       "        4.78677265e+05,  2.22166428e+05,  2.51566548e+05,  2.95125270e+05,\n",
       "        2.00377777e+05,  2.25065346e+05,  2.99567435e+05,  4.76965581e+05,\n",
       "        5.96298646e+05,  3.67468034e+05,  2.01139119e+05,  2.45486354e+05,\n",
       "        3.42928880e+05,  3.02483433e+05,  1.70339501e+05,  2.72132912e+05,\n",
       "        3.98165530e+05,  1.49761975e+05,  2.10827282e+05,  4.82532890e+05,\n",
       "        2.43384823e+05,  7.27686680e+05,  2.97248000e+05,  3.81897642e+05,\n",
       "        4.43424003e+05,  1.58095738e+06,  3.67468034e+05,  8.22304845e+05,\n",
       "        4.46980642e+05,  5.38883516e+05,  3.23050140e+05,  4.71602589e+05,\n",
       "        6.32843276e+04,  2.65058273e+05,  2.70339536e+05,  4.89900873e+05,\n",
       "        5.11545783e+05,  3.31633712e+04,  9.12423226e+05,  4.73792635e+05,\n",
       "        2.22896813e+05,  3.39807689e+05,  3.28626687e+05,  3.61987658e+05,\n",
       "        4.68669417e+05,  2.10827282e+05,  5.10945585e+05,  1.72250929e+05,\n",
       "        1.98087689e+05,  3.05103751e+05,  3.83592289e+05,  2.71542570e+05,\n",
       "        1.21447714e+06,  3.33466037e+05,  4.23559746e+05,  2.90487016e+05,\n",
       "        1.65301816e+05,  4.19968152e+05,  1.87365631e+06,  4.42300712e+05,\n",
       "        6.33934991e+05,  6.19114562e+05,  1.83306645e+05,  7.37805042e+05,\n",
       "        4.18557152e+05,  5.38443587e+05,  1.31368829e+06,  7.36755824e+05,\n",
       "        6.27258868e+05,  2.40253945e+05,  3.29549069e+05,  3.50373073e+04,\n",
       "        5.47610813e+05,  3.84356165e+05,  6.33934991e+05,  1.07035187e+06,\n",
       "        4.41377827e+05,  2.89688448e+05,  2.02734340e+05,  8.49776922e+04,\n",
       "        2.72967207e+05,  2.81973472e+05,  6.39583869e+04,  6.41641852e+04,\n",
       "        3.99429726e+05,  1.56693934e+05,  1.53455253e+05,  4.22719553e+05,\n",
       "        4.88141158e+05,  7.74183766e+04,  3.42268056e+05,  4.86142483e+04,\n",
       "        3.20414130e+05,  1.74921745e+05,  4.80662369e+05,  1.83602136e+05,\n",
       "        5.24069888e+05,  1.65972886e+05,  4.67384487e+05,  2.34152900e+05,\n",
       "        2.05717318e+05,  1.69846257e+05,  1.18378407e+06,  6.69459852e+05,\n",
       "        2.85135792e+05, -1.55107563e+05,  2.45069953e+05,  3.37004613e+05,\n",
       "        5.71045565e+05,  1.30312569e+06,  5.96505605e+05,  2.54166684e+05,\n",
       "        3.97231918e+05, -7.34916369e+04,  3.30359667e+05,  6.99155727e+05,\n",
       "        3.89312598e+05,  2.29580662e+04,  5.85677221e+04,  3.42098190e+05,\n",
       "        2.80264371e+05,  2.38003865e+05,  3.47541387e+05,  5.42986826e+05,\n",
       "        3.67846547e+05,  9.12406599e+05,  6.66222117e+05,  2.62327463e+05,\n",
       "        1.75734472e+04,  2.12922353e+05,  7.28178036e+04,  1.53423738e+05,\n",
       "        3.60721323e+05,  3.18350181e+05,  6.88550189e+05,  4.70722731e+05,\n",
       "        3.47152287e+05,  4.57075498e+05,  4.63259249e+05,  4.20743639e+05,\n",
       "       -1.28829002e+04,  4.78458457e+05,  2.20086463e+05,  2.26866043e+05,\n",
       "        5.08059131e+05,  2.43183810e+05,  3.87974480e+05,  3.97231918e+05,\n",
       "        2.52547665e+05,  5.63034736e+05,  7.52039721e+05,  3.78374001e+05,\n",
       "        7.52045926e+05,  2.90487016e+05,  5.08359228e+05,  6.41641852e+04,\n",
       "        2.58188636e+04,  8.03425726e+05,  2.41963224e+05,  4.41516512e+05,\n",
       "        5.91019500e+05,  3.82425035e+05,  2.90487016e+05,  3.42268056e+05,\n",
       "        1.61922204e+05,  1.84257331e+05,  3.87371319e+05,  5.64228432e+05,\n",
       "        1.01582716e+06,  5.25470109e+05,  5.07077373e+05,  1.78267603e+05])"
      ]
     },
     "execution_count": 45,
     "metadata": {},
     "output_type": "execute_result"
    }
   ],
   "source": [
    "y_pred\n"
   ]
  },
  {
   "cell_type": "code",
   "execution_count": 46,
   "id": "b200ba97",
   "metadata": {},
   "outputs": [
    {
     "data": {
      "image/png": "[encoded data removed]",
      "text/plain": [
       "<Figure size 640x480 with 1 Axes>"
      ]
     },
     "metadata": {},
     "output_type": "display_data"
    }
   ],
   "source": [
    "plt.scatter(y_train,y_pred)\n",
    "plt.xlabel(\"Actual price\")\n",
    "plt.ylabel(\"predictive price\")\n",
    "plt.show()"
   ]
  },
  {
   "cell_type": "code",
   "execution_count": 36,
   "id": "42f228a7",
   "metadata": {},
   "outputs": [
    {
     "data": {
      "text/plain": [
       "0.5551584032402332"
      ]
     },
     "execution_count": 36,
     "metadata": {},
     "output_type": "execute_result"
    }
   ],
   "source": [
    "r2_score(y_test,y_pred)"
   ]
  },
  {
   "cell_type": "code",
   "execution_count": 37,
   "id": "70a1bfbc",
   "metadata": {},
   "outputs": [],
   "source": [
    "score=[]\n",
    "for i in range(1000):\n",
    "    X_train,X_test,y_train,y_test=train_test_split(x,y,test_size=0.2,random_state=i)\n",
    "    lr=LinearRegression()\n",
    "    pipe=make_pipeline(column_trans,lr)\n",
    "    pipe.fit(X_train,y_train)\n",
    "    y_pred=pipe.predict(X_test)\n",
    "    score.append(r2_score(y_test,y_pred))"
   ]
  },
  {
   "cell_type": "code",
   "execution_count": 38,
   "id": "6ab5a991",
   "metadata": {},
   "outputs": [
    {
     "data": {
      "text/plain": [
       "433"
      ]
     },
     "execution_count": 38,
     "metadata": {},
     "output_type": "execute_result"
    }
   ],
   "source": [
    "np.argmax(score)"
   ]
  },
  {
   "cell_type": "code",
   "execution_count": 39,
   "id": "70a10956",
   "metadata": {},
   "outputs": [
    {
     "data": {
      "text/plain": [
       "0.8456957793726847"
      ]
     },
     "execution_count": 39,
     "metadata": {},
     "output_type": "execute_result"
    }
   ],
   "source": [
    "score[np.argmax(score)]"
   ]
  },
  {
   "cell_type": "code",
   "execution_count": 40,
   "id": "04a48f7d",
   "metadata": {},
   "outputs": [
    {
     "data": {
      "text/plain": [
       "0.8456957793726847"
      ]
     },
     "execution_count": 40,
     "metadata": {},
     "output_type": "execute_result"
    }
   ],
   "source": [
    "X_train,X_test,y_train,y_test=train_test_split(x,y,test_size=0.2,random_state=np.argmax(score))\n",
    "lr=LinearRegression()\n",
    "pipe=make_pipeline(column_trans,lr)\n",
    "pipe.fit(X_train,y_train)\n",
    "y_pred=pipe.predict(X_test) \n",
    "r2_score(y_test,y_pred)"
   ]
  },
  {
   "cell_type": "code",
   "execution_count": 41,
   "id": "f1f95b4d",
   "metadata": {},
   "outputs": [],
   "source": [
    "import pickle"
   ]
  },
  {
   "cell_type": "code",
   "execution_count": 42,
   "id": "a8210798",
   "metadata": {},
   "outputs": [],
   "source": [
    "pickle.dump(pipe,open('LinearRegressionModel.pkl','wb'))"
   ]
  },
  {
   "cell_type": "code",
   "execution_count": 43,
   "id": "d192f09c",
   "metadata": {},
   "outputs": [
    {
     "data": {
      "text/plain": [
       "array([458934.66740154])"
      ]
     },
     "execution_count": 43,
     "metadata": {},
     "output_type": "execute_result"
    }
   ],
   "source": [
    "pipe.predict(pd.DataFrame([['Maruti Suzuki Swift','Maruti',2019,100,'Petrol']],columns=['name','company','year','kms_driven','fuel_type']))"
   ]
  },
  {
   "cell_type": "code",
   "execution_count": null,
   "id": "2105d76f",
   "metadata": {},
   "outputs": [],
   "source": []
  }
 ],
 "metadata": {
  "kernelspec": {
   "display_name": "Python 3 (ipykernel)",
   "language": "python",
   "name": "python3"
  },
  "language_info": {
   "codemirror_mode": {
    "name": "ipython",
    "version": 3
   },
   "file_extension": ".py",
   "mimetype": "text/x-python",
   "name": "python",
   "nbconvert_exporter": "python",
   "pygments_lexer": "ipython3",
   "version": "3.11.5"
  }
 },
 "nbformat": 4,
 "nbformat_minor": 5
}
